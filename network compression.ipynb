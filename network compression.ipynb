{
  "nbformat": 4,
  "nbformat_minor": 0,
  "metadata": {
    "colab": {
      "provenance": [],
      "machine_shape": "hm",
      "gpuType": "T4"
    },
    "kernelspec": {
      "name": "python3",
      "display_name": "Python 3"
    },
    "language_info": {
      "name": "python"
    },
    "accelerator": "GPU"
  },
  "cells": [
    {
      "cell_type": "code",
      "execution_count": 151,
      "metadata": {
        "id": "M-c_i9EKTq4h"
      },
      "outputs": [],
      "source": [
        "import os"
      ]
    },
    {
      "cell_type": "code",
      "source": [
        "from google.colab import drive\n",
        "drive.mount('/content/gdrive')"
      ],
      "metadata": {
        "colab": {
          "base_uri": "https://localhost:8080/"
        },
        "id": "tZXLPmynTwYr",
        "outputId": "6e475cb9-f012-4607-df33-e4c91ab9fd51"
      },
      "execution_count": 2,
      "outputs": [
        {
          "output_type": "stream",
          "name": "stdout",
          "text": [
            "Drive already mounted at /content/gdrive; to attempt to forcibly remount, call drive.mount(\"/content/gdrive\", force_remount=True).\n"
          ]
        }
      ]
    },
    {
      "cell_type": "code",
      "source": [
        "from google.colab import auth\n",
        "auth.authenticate_user()"
      ],
      "metadata": {
        "id": "VxWrsNbiU30f"
      },
      "execution_count": 3,
      "outputs": []
    },
    {
      "cell_type": "code",
      "source": [
        "folder_path = '/content/gdrive/MyDrive/DLS/HW3/'\n",
        "os.chdir(folder_path)"
      ],
      "metadata": {
        "id": "rCFgy6JQU8HI"
      },
      "execution_count": 4,
      "outputs": []
    },
    {
      "cell_type": "code",
      "source": [
        "#libraries\n",
        "import tensorflow as tf\n",
        "import matplotlib.pyplot as plt\n",
        "import os\n",
        "import numpy as np\n",
        "import pandas as pd\n",
        "\n",
        "from tensorflow.keras.models import load_model\n",
        "from tensorflow.keras.models import clone_model\n",
        "from tensorflow.keras.callbacks import Callback\n",
        "from tensorflow.keras.optimizers import SGD\n",
        "from tensorflow.keras.optimizers import Adam\n",
        "from tensorflow.keras.layers import Input, InputLayer, Dense, Flatten, LSTM, Dropout, GRU"
      ],
      "metadata": {
        "id": "dp4OEG4wVAbx"
      },
      "execution_count": 132,
      "outputs": []
    },
    {
      "cell_type": "markdown",
      "source": [
        "Q1.\n",
        "\n",
        "a."
      ],
      "metadata": {
        "id": "7bvR8kJFXG71"
      }
    },
    {
      "cell_type": "code",
      "source": [
        "#train test set\n",
        "mnist = tf.keras.datasets.mnist\n",
        "(X_train, y_train), (X_test, y_test) = mnist.load_data()"
      ],
      "metadata": {
        "id": "fcPyR6jyXEvR",
        "colab": {
          "base_uri": "https://localhost:8080/"
        },
        "outputId": "199af70c-3a49-4812-f3f2-418146d4afb0"
      },
      "execution_count": 6,
      "outputs": [
        {
          "output_type": "stream",
          "name": "stdout",
          "text": [
            "Downloading data from https://storage.googleapis.com/tensorflow/tf-keras-datasets/mnist.npz\n",
            "11490434/11490434 [==============================] - 1s 0us/step\n"
          ]
        }
      ]
    },
    {
      "cell_type": "code",
      "source": [
        "X_train = X_train / 255.0\n",
        "X_test = X_test / 255.0"
      ],
      "metadata": {
        "id": "PLKgzxd2XorD"
      },
      "execution_count": 7,
      "outputs": []
    },
    {
      "cell_type": "code",
      "source": [
        "X_train = X_train.reshape(-1, (28*28))\n",
        "X_test = X_test.reshape(-1, (28*28))"
      ],
      "metadata": {
        "id": "6fE3MogAXqdj"
      },
      "execution_count": 8,
      "outputs": []
    },
    {
      "cell_type": "code",
      "source": [
        "y_train = tf.keras.utils.to_categorical(y_train, 10)\n",
        "y_test = tf.keras.utils.to_categorical(y_test,10)"
      ],
      "metadata": {
        "id": "_qby596AXrux"
      },
      "execution_count": 9,
      "outputs": []
    },
    {
      "cell_type": "code",
      "source": [
        "initializer = tf.keras.initializers.HeNormal()\n",
        "\n",
        "model = tf.keras.Sequential([\n",
        "                  tf.keras.layers.Input(shape = (784,)),\n",
        "                  tf.keras.layers.Flatten(),\n",
        "                  tf.keras.layers.Dense(1024, activation = 'relu' , kernel_initializer = initializer),\n",
        "                  tf.keras.layers.Dense(1024, activation = 'relu' , kernel_initializer = initializer),\n",
        "                  tf.keras.layers.Dense(1024, activation = 'relu' , kernel_initializer = initializer),\n",
        "                  tf.keras.layers.Dense(1024, activation = 'relu' , kernel_initializer = initializer),\n",
        "                  tf.keras.layers.Dense(1024, activation = 'relu' , kernel_initializer = initializer),\n",
        "                  tf.keras.layers.Dense(10, activation ='softmax')])\n",
        "\n",
        "model.summary()"
      ],
      "metadata": {
        "colab": {
          "base_uri": "https://localhost:8080/"
        },
        "id": "ZMw6BjpDXu4r",
        "outputId": "b3355c78-1d54-4cd7-8eb6-a037d6ecbd07"
      },
      "execution_count": 10,
      "outputs": [
        {
          "output_type": "stream",
          "name": "stdout",
          "text": [
            "Model: \"sequential\"\n",
            "_________________________________________________________________\n",
            " Layer (type)                Output Shape              Param #   \n",
            "=================================================================\n",
            " flatten (Flatten)           (None, 784)               0         \n",
            "                                                                 \n",
            " dense (Dense)               (None, 1024)              803840    \n",
            "                                                                 \n",
            " dense_1 (Dense)             (None, 1024)              1049600   \n",
            "                                                                 \n",
            " dense_2 (Dense)             (None, 1024)              1049600   \n",
            "                                                                 \n",
            " dense_3 (Dense)             (None, 1024)              1049600   \n",
            "                                                                 \n",
            " dense_4 (Dense)             (None, 1024)              1049600   \n",
            "                                                                 \n",
            " dense_5 (Dense)             (None, 10)                10250     \n",
            "                                                                 \n",
            "=================================================================\n",
            "Total params: 5012490 (19.12 MB)\n",
            "Trainable params: 5012490 (19.12 MB)\n",
            "Non-trainable params: 0 (0.00 Byte)\n",
            "_________________________________________________________________\n"
          ]
        },
        {
          "output_type": "stream",
          "name": "stderr",
          "text": [
            "/usr/local/lib/python3.10/dist-packages/keras/src/initializers/initializers.py:120: UserWarning: The initializer HeNormal is unseeded and being called multiple times, which will return identical values each time (even if the initializer is unseeded). Please update your code to provide a seed to the initializer, or avoid using the same initializer instance more than once.\n",
            "  warnings.warn(\n"
          ]
        }
      ]
    },
    {
      "cell_type": "code",
      "source": [
        "#fit model\n",
        "model.compile(optimizer = \"Adam\", loss = 'categorical_crossentropy', metrics = ['accuracy'])\n",
        "history_baseline = model.fit(X_train, y_train, batch_size = 64, epochs = 50, validation_split = 0.2 )"
      ],
      "metadata": {
        "colab": {
          "base_uri": "https://localhost:8080/"
        },
        "id": "vDKkBebzXu7W",
        "outputId": "46c35749-9688-45ec-c02a-aa7b81f5e8c6"
      },
      "execution_count": null,
      "outputs": [
        {
          "output_type": "stream",
          "name": "stdout",
          "text": [
            "Epoch 1/50\n",
            "750/750 [==============================] - 7s 6ms/step - loss: 0.2427 - accuracy: 0.9286 - val_loss: 0.1418 - val_accuracy: 0.9591\n",
            "Epoch 2/50\n",
            "750/750 [==============================] - 4s 6ms/step - loss: 0.1151 - accuracy: 0.9687 - val_loss: 0.1343 - val_accuracy: 0.9628\n",
            "Epoch 3/50\n",
            "750/750 [==============================] - 5s 6ms/step - loss: 0.0864 - accuracy: 0.9769 - val_loss: 0.1209 - val_accuracy: 0.9680\n",
            "Epoch 4/50\n",
            "750/750 [==============================] - 5s 6ms/step - loss: 0.0654 - accuracy: 0.9820 - val_loss: 0.1331 - val_accuracy: 0.9698\n",
            "Epoch 5/50\n",
            "750/750 [==============================] - 4s 5ms/step - loss: 0.0570 - accuracy: 0.9843 - val_loss: 0.1136 - val_accuracy: 0.9737\n",
            "Epoch 6/50\n",
            "750/750 [==============================] - 4s 5ms/step - loss: 0.0569 - accuracy: 0.9852 - val_loss: 0.1491 - val_accuracy: 0.9688\n",
            "Epoch 7/50\n",
            "750/750 [==============================] - 5s 7ms/step - loss: 0.0485 - accuracy: 0.9876 - val_loss: 0.1202 - val_accuracy: 0.9753\n",
            "Epoch 8/50\n",
            "750/750 [==============================] - 4s 5ms/step - loss: 0.0440 - accuracy: 0.9886 - val_loss: 0.1317 - val_accuracy: 0.9775\n",
            "Epoch 9/50\n",
            "750/750 [==============================] - 4s 5ms/step - loss: 0.0398 - accuracy: 0.9906 - val_loss: 0.1133 - val_accuracy: 0.9766\n",
            "Epoch 10/50\n",
            "750/750 [==============================] - 5s 6ms/step - loss: 0.0358 - accuracy: 0.9909 - val_loss: 0.1007 - val_accuracy: 0.9775\n",
            "Epoch 11/50\n",
            "750/750 [==============================] - 4s 5ms/step - loss: 0.0284 - accuracy: 0.9930 - val_loss: 0.1321 - val_accuracy: 0.9786\n",
            "Epoch 12/50\n",
            "750/750 [==============================] - 4s 5ms/step - loss: 0.0377 - accuracy: 0.9911 - val_loss: 0.1241 - val_accuracy: 0.9784\n",
            "Epoch 13/50\n",
            "750/750 [==============================] - 5s 6ms/step - loss: 0.0270 - accuracy: 0.9931 - val_loss: 0.1706 - val_accuracy: 0.9764\n",
            "Epoch 14/50\n",
            "750/750 [==============================] - 7s 9ms/step - loss: 0.0332 - accuracy: 0.9923 - val_loss: 0.1211 - val_accuracy: 0.9778\n",
            "Epoch 15/50\n",
            "750/750 [==============================] - 4s 5ms/step - loss: 0.0258 - accuracy: 0.9939 - val_loss: 0.2001 - val_accuracy: 0.9764\n",
            "Epoch 16/50\n",
            "750/750 [==============================] - 5s 6ms/step - loss: 0.0215 - accuracy: 0.9947 - val_loss: 0.1311 - val_accuracy: 0.9793\n",
            "Epoch 17/50\n",
            "750/750 [==============================] - 4s 6ms/step - loss: 0.0199 - accuracy: 0.9955 - val_loss: 0.1616 - val_accuracy: 0.9753\n",
            "Epoch 18/50\n",
            "750/750 [==============================] - 4s 5ms/step - loss: 0.0249 - accuracy: 0.9942 - val_loss: 0.1848 - val_accuracy: 0.9720\n",
            "Epoch 19/50\n",
            "750/750 [==============================] - 4s 5ms/step - loss: 0.0254 - accuracy: 0.9941 - val_loss: 0.1386 - val_accuracy: 0.9801\n",
            "Epoch 20/50\n",
            "750/750 [==============================] - 5s 7ms/step - loss: 0.0191 - accuracy: 0.9952 - val_loss: 0.1594 - val_accuracy: 0.9793\n",
            "Epoch 21/50\n",
            "750/750 [==============================] - 4s 5ms/step - loss: 0.0205 - accuracy: 0.9958 - val_loss: 0.1598 - val_accuracy: 0.9830\n",
            "Epoch 22/50\n",
            "750/750 [==============================] - 4s 5ms/step - loss: 0.0261 - accuracy: 0.9952 - val_loss: 0.1874 - val_accuracy: 0.9742\n",
            "Epoch 23/50\n",
            "750/750 [==============================] - 5s 6ms/step - loss: 0.0191 - accuracy: 0.9961 - val_loss: 0.1989 - val_accuracy: 0.9795\n",
            "Epoch 24/50\n",
            "750/750 [==============================] - 4s 5ms/step - loss: 0.0168 - accuracy: 0.9965 - val_loss: 0.1769 - val_accuracy: 0.9744\n",
            "Epoch 25/50\n",
            "750/750 [==============================] - 4s 5ms/step - loss: 0.0198 - accuracy: 0.9957 - val_loss: 0.1398 - val_accuracy: 0.9808\n",
            "Epoch 26/50\n",
            "750/750 [==============================] - 4s 5ms/step - loss: 0.0159 - accuracy: 0.9966 - val_loss: 0.2055 - val_accuracy: 0.9791\n",
            "Epoch 27/50\n",
            "750/750 [==============================] - 5s 6ms/step - loss: 0.0233 - accuracy: 0.9954 - val_loss: 0.2154 - val_accuracy: 0.9786\n",
            "Epoch 28/50\n",
            "750/750 [==============================] - 4s 5ms/step - loss: 0.0188 - accuracy: 0.9961 - val_loss: 0.1713 - val_accuracy: 0.9795\n",
            "Epoch 29/50\n",
            "750/750 [==============================] - 4s 5ms/step - loss: 0.0142 - accuracy: 0.9979 - val_loss: 0.2051 - val_accuracy: 0.9808\n",
            "Epoch 30/50\n",
            "750/750 [==============================] - 5s 7ms/step - loss: 0.0147 - accuracy: 0.9970 - val_loss: 0.1576 - val_accuracy: 0.9792\n",
            "Epoch 31/50\n",
            "750/750 [==============================] - 4s 5ms/step - loss: 0.0222 - accuracy: 0.9962 - val_loss: 0.1677 - val_accuracy: 0.9769\n",
            "Epoch 32/50\n",
            "750/750 [==============================] - 4s 5ms/step - loss: 0.0143 - accuracy: 0.9969 - val_loss: 0.2198 - val_accuracy: 0.9811\n",
            "Epoch 33/50\n",
            "750/750 [==============================] - 4s 6ms/step - loss: 0.0159 - accuracy: 0.9974 - val_loss: 0.2271 - val_accuracy: 0.9797\n",
            "Epoch 34/50\n",
            "750/750 [==============================] - 6s 9ms/step - loss: 0.0091 - accuracy: 0.9979 - val_loss: 0.1988 - val_accuracy: 0.9793\n",
            "Epoch 35/50\n",
            "750/750 [==============================] - 4s 5ms/step - loss: 0.0231 - accuracy: 0.9952 - val_loss: 0.2808 - val_accuracy: 0.9786\n",
            "Epoch 36/50\n",
            "750/750 [==============================] - 4s 6ms/step - loss: 0.0139 - accuracy: 0.9974 - val_loss: 0.2079 - val_accuracy: 0.9822\n",
            "Epoch 37/50\n",
            "750/750 [==============================] - 5s 6ms/step - loss: 0.0161 - accuracy: 0.9972 - val_loss: 0.1997 - val_accuracy: 0.9795\n",
            "Epoch 38/50\n",
            "750/750 [==============================] - 4s 5ms/step - loss: 0.0118 - accuracy: 0.9977 - val_loss: 0.2436 - val_accuracy: 0.9803\n",
            "Epoch 39/50\n",
            "750/750 [==============================] - 4s 5ms/step - loss: 0.0113 - accuracy: 0.9977 - val_loss: 0.2017 - val_accuracy: 0.9827\n",
            "Epoch 40/50\n",
            "750/750 [==============================] - 5s 7ms/step - loss: 0.0082 - accuracy: 0.9985 - val_loss: 0.3017 - val_accuracy: 0.9793\n",
            "Epoch 41/50\n",
            "750/750 [==============================] - 4s 5ms/step - loss: 0.0157 - accuracy: 0.9970 - val_loss: 0.1791 - val_accuracy: 0.9815\n",
            "Epoch 42/50\n",
            "750/750 [==============================] - 4s 5ms/step - loss: 0.0149 - accuracy: 0.9977 - val_loss: 0.2056 - val_accuracy: 0.9788\n",
            "Epoch 43/50\n",
            "750/750 [==============================] - 4s 6ms/step - loss: 0.0070 - accuracy: 0.9983 - val_loss: 0.2399 - val_accuracy: 0.9815\n",
            "Epoch 44/50\n",
            "750/750 [==============================] - 6s 7ms/step - loss: 0.0168 - accuracy: 0.9970 - val_loss: 0.1980 - val_accuracy: 0.9817\n",
            "Epoch 45/50\n",
            "750/750 [==============================] - 4s 6ms/step - loss: 0.0137 - accuracy: 0.9973 - val_loss: 0.2572 - val_accuracy: 0.9787\n",
            "Epoch 46/50\n",
            "750/750 [==============================] - 4s 5ms/step - loss: 0.0100 - accuracy: 0.9985 - val_loss: 0.2008 - val_accuracy: 0.9811\n",
            "Epoch 47/50\n",
            "750/750 [==============================] - 5s 6ms/step - loss: 0.0089 - accuracy: 0.9983 - val_loss: 0.1814 - val_accuracy: 0.9791\n",
            "Epoch 48/50\n",
            "750/750 [==============================] - 4s 5ms/step - loss: 0.0083 - accuracy: 0.9985 - val_loss: 0.2484 - val_accuracy: 0.9828\n",
            "Epoch 49/50\n",
            "750/750 [==============================] - 4s 5ms/step - loss: 0.0192 - accuracy: 0.9978 - val_loss: 0.2466 - val_accuracy: 0.9817\n",
            "Epoch 50/50\n",
            "750/750 [==============================] - 5s 7ms/step - loss: 0.0111 - accuracy: 0.9979 - val_loss: 0.2338 - val_accuracy: 0.9814\n"
          ]
        }
      ]
    },
    {
      "cell_type": "code",
      "source": [
        "#save .h5 model\n",
        "model.save('/content/gdrive/MyDrive/DLS/HW3/models/baseline.h5')\n",
        "\n",
        "#save accuracies\n",
        "data = {'Epoch': list(range(1, len(history_baseline.history['val_accuracy']) + 1)),\n",
        "        'Training Accuracy' : history_baseline.history['accuracy'],\n",
        "        'Validation Accuracy': history_baseline.history['val_accuracy']}\n",
        "df = pd.DataFrame(data)\n",
        "\n",
        "folder = '/content/gdrive/MyDrive/DLS/HW3/csv/'\n",
        "csv_filename = 'baseline-q1.csv'\n",
        "df.to_csv(folder + csv_filename, index=False)"
      ],
      "metadata": {
        "id": "OMLkTEz4Xu97"
      },
      "execution_count": null,
      "outputs": []
    },
    {
      "cell_type": "code",
      "source": [
        "#Plot the accuracies#plot the test accuracies\n",
        "folder = '/content/gdrive/MyDrive/DLS/HW3/csv/'\n",
        "csv_filename = 'baseline-q1.csv'\n",
        "df = pd.read_csv(folder + csv_filename)\n",
        "\n",
        "#plot the test accuracies from both DataFrames\n",
        "plt.plot(df['Epoch'], df['Validation Accuracy'], label='Baseline')\n",
        "plt.xlabel('Epochs')\n",
        "plt.ylabel('Validation Accuracy')\n",
        "plt.legend()\n",
        "plt.title('MNIST Baseline Accuracy')\n",
        "plt.show()\n"
      ],
      "metadata": {
        "colab": {
          "base_uri": "https://localhost:8080/",
          "height": 472
        },
        "id": "-PIduTNh-h-m",
        "outputId": "8cd78b0c-6744-4fbc-b350-07efe66c6f77"
      },
      "execution_count": null,
      "outputs": [
        {
          "output_type": "display_data",
          "data": {
            "text/plain": [
              "<Figure size 640x480 with 1 Axes>"
            ],
            "image/png": "[encoded data removed]"
          },
          "metadata": {}
        }
      ]
    },
    {
      "cell_type": "code",
      "source": [
        "#report test accuracy of baseline model\n",
        "model = load_model('/content/gdrive/MyDrive/DLS/HW3/models/baseline.h5')\n",
        "test_acc_baseline = model.evaluate(X_test , y_test)[1]\n",
        "test_acc_baseline"
      ],
      "metadata": {
        "colab": {
          "base_uri": "https://localhost:8080/"
        },
        "id": "HoniX1Fb9ARG",
        "outputId": "461a2366-0178-4c7f-d913-09ca286d47ec"
      },
      "execution_count": 68,
      "outputs": [
        {
          "output_type": "stream",
          "name": "stdout",
          "text": [
            "313/313 [==============================] - 1s 2ms/step - loss: 0.1960 - accuracy: 0.9815\n"
          ]
        },
        {
          "output_type": "execute_result",
          "data": {
            "text/plain": [
              "0.9815000295639038"
            ]
          },
          "metadata": {},
          "execution_count": 68
        }
      ]
    },
    {
      "cell_type": "code",
      "source": [
        "#save the baseline parameters\n",
        "model = load_model('/content/gdrive/MyDrive/DLS/HW3/models/baseline.h5')\n",
        "\n",
        "for layer in model.layers:\n",
        "    w = layer.get_weights()"
      ],
      "metadata": {
        "id": "hmSELUtuLEdK"
      },
      "execution_count": 63,
      "outputs": []
    },
    {
      "cell_type": "code",
      "source": [
        "#get weights for W(0) to W(5)\n",
        "weights = []\n",
        "for layer in model.layers[1:-1]:\n",
        "  #print(layer.get_weights()[0].shape , layer.get_weights()[1].shape)\n",
        "  weights.append(layer.get_weights()[0])"
      ],
      "metadata": {
        "id": "UFzD_shrZ67h"
      },
      "execution_count": 64,
      "outputs": []
    },
    {
      "cell_type": "code",
      "source": [
        "#run svd once.\n",
        "svd_tensors = [tf.linalg.svd(w) for w in weights]"
      ],
      "metadata": {
        "id": "B3NWMcnqgzjM"
      },
      "execution_count": 12,
      "outputs": []
    },
    {
      "cell_type": "code",
      "source": [
        "#vary d from 10,20, 50, 100, 200, Dfull = 784 or Dfull = 1024 for other layers.\n",
        "#6 svd networks\n",
        "\n",
        "ranks = [10, 20, 50, 100, 200, 1024]\n",
        "\n",
        "test_acc = []\n",
        "\n",
        "params = []\n",
        "\n",
        "for rank in ranks:\n",
        "  approx_weights = []\n",
        "\n",
        "  for i in range(len(weights)):\n",
        "    #components of svd\n",
        "    s, u, v = svd_tensors[i]\n",
        "\n",
        "    #choose only d singular values\n",
        "    if i == 0:\n",
        "      d = min(rank, weights[i].shape[0])\n",
        "    else:\n",
        "      d = min(rank, weights[i].shape[1])\n",
        "\n",
        "    #approximate singular value decomposition\n",
        "    ud = u[:, :d]\n",
        "    sd = tf.linalg.diag(s[:d])\n",
        "    vd = tf.transpose(v[:, :d])\n",
        "\n",
        "    #print(ud.shape, sd.shape , vd.shape)\n",
        "    #print(u.shape, s.shape, v.shape)\n",
        "\n",
        "    #approximate weights\n",
        "    approx_weights.append(tf.matmul(ud, tf.matmul(sd, vd)))\n",
        "\n",
        "  for i in range(len(approx_weights)):\n",
        "    #get bias\n",
        "    bias = model.layers[i+1].get_weights()[1]\n",
        "    model.layers[i+1].set_weights([approx_weights[i] , bias])\n",
        "\n",
        "  #evaluate test accuracy\n",
        "  test_acc.append(model.evaluate(X_test, y_test)[1])"
      ],
      "metadata": {
        "colab": {
          "base_uri": "https://localhost:8080/"
        },
        "id": "EQ6kEMobZ6-k",
        "outputId": "bc79d520-3059-43b7-f467-f4827577ff74"
      },
      "execution_count": 65,
      "outputs": [
        {
          "output_type": "stream",
          "name": "stdout",
          "text": [
            "313/313 [==============================] - 1s 3ms/step - loss: 2.3320 - accuracy: 0.1229\n",
            "313/313 [==============================] - 1s 3ms/step - loss: 1.8007 - accuracy: 0.3352\n",
            "313/313 [==============================] - 1s 2ms/step - loss: 0.5888 - accuracy: 0.8278\n",
            "313/313 [==============================] - 1s 2ms/step - loss: 0.1603 - accuracy: 0.9696\n",
            "313/313 [==============================] - 1s 2ms/step - loss: 0.1244 - accuracy: 0.9806\n",
            "313/313 [==============================] - 1s 2ms/step - loss: 0.1960 - accuracy: 0.9815\n"
          ]
        }
      ]
    },
    {
      "cell_type": "code",
      "source": [
        "for i in range(len(ranks)):\n",
        "  print(\"Rank: \", ranks[i] , \"Test Accuracy: \", test_acc[i])"
      ],
      "metadata": {
        "colab": {
          "base_uri": "https://localhost:8080/"
        },
        "id": "kS5DfMsqCHW6",
        "outputId": "26657954-1c2b-4e96-8e32-f82ffa69ab48"
      },
      "execution_count": 66,
      "outputs": [
        {
          "output_type": "stream",
          "name": "stdout",
          "text": [
            "Rank:  10 Test Accuracy:  0.12290000170469284\n",
            "Rank:  20 Test Accuracy:  0.3352000117301941\n",
            "Rank:  50 Test Accuracy:  0.8277999758720398\n",
            "Rank:  100 Test Accuracy:  0.9696000218391418\n",
            "Rank:  200 Test Accuracy:  0.9805999994277954\n",
            "Rank:  1024 Test Accuracy:  0.9815000295639038\n"
          ]
        }
      ]
    },
    {
      "cell_type": "code",
      "source": [
        "#find test accuracies of the 6 networks and compare with baseline.\n",
        "#graph whose x-axis is D and y-axis is the test accuracy\n",
        "plt.plot(ranks, test_acc, 'bo-')\n",
        "plt.plot([ranks[0], ranks[-1]], [test_acc_baseline, test_acc_baseline], 'r--')\n",
        "plt.xlabel('Value of D')\n",
        "plt.ylabel('Test Accuracy')\n",
        "plt.title('Test Accuracies of SVD models vs D')\n",
        "plt.show()"
      ],
      "metadata": {
        "colab": {
          "base_uri": "https://localhost:8080/",
          "height": 472
        },
        "id": "fGR92Rj-Z7B2",
        "outputId": "a9b89734-907e-4078-b670-b17f10171f59"
      },
      "execution_count": 69,
      "outputs": [
        {
          "output_type": "display_data",
          "data": {
            "text/plain": [
              "<Figure size 640x480 with 1 Axes>"
            ],
            "image/png": "[encoded data removed]"
          },
          "metadata": {}
        }
      ]
    },
    {
      "cell_type": "code",
      "source": [
        "#Number of parameters of your SVDed networks and compare them to the baseline’s.\n",
        "for rank, cw in zip(ranks, params):\n",
        "  print(f\"Rank {rank} params: {cw} \")"
      ],
      "metadata": {
        "colab": {
          "base_uri": "https://localhost:8080/"
        },
        "id": "540z8vtaXvBU",
        "outputId": "8b11602e-3f5c-4010-efde-0df1189d6718"
      },
      "execution_count": null,
      "outputs": [
        {
          "output_type": "stream",
          "name": "stdout",
          "text": [
            "Rank 10 params: 5012490 (100.0% of baseline)\n",
            "Rank 20 params: 5012490 (100.0% of baseline)\n",
            "Rank 50 params: 5012490 (100.0% of baseline)\n",
            "Rank 100 params: 5012490 (100.0% of baseline)\n",
            "Rank 200 params: 5012490 (100.0% of baseline)\n",
            "Rank 1024 params: 5012490 (100.0% of baseline)\n"
          ]
        }
      ]
    },
    {
      "cell_type": "markdown",
      "source": [
        "Since , here I have made changes in the baseline model, we can see that there are same number of parameters.\n",
        "\n",
        "- However, if we make a new model and by the use of svd we can see that:\n",
        "for every hidden dense layer in the base line model has 1024 x 1024 parameters = 1048576.\n",
        "\n",
        "But when we use the parameters of derived from svd, we get u x s x d which for example for d = 10 will be\n",
        "\n",
        "- u x s = 784 x 10 = 7840\n",
        "- u x s x d = 10 x 1024 = 10240\n",
        "- which gives us 7840 + 10240 = 18080 parameters which is 1.72% of one hidden dense layer of the baseline parameters."
      ],
      "metadata": {
        "id": "Al-6e3ZsnrAa"
      }
    },
    {
      "cell_type": "markdown",
      "source": [
        "Q2. Network Compression Using SVD."
      ],
      "metadata": {
        "id": "ddmHEEEL6aaC"
      }
    },
    {
      "cell_type": "code",
      "source": [
        "#D = 20\n",
        "model = load_model('/content/gdrive/MyDrive/DLS/HW3/models/baseline.h5')"
      ],
      "metadata": {
        "id": "iq1ZkTt-tUt5"
      },
      "execution_count": 114,
      "outputs": []
    },
    {
      "cell_type": "code",
      "source": [
        "#get weights for W(1) to W(5)\n",
        "weights = []\n",
        "for layer in model.layers[1:-1]:\n",
        "  weights.append(layer.get_weights()[0])"
      ],
      "metadata": {
        "id": "sPPRNkjxtXO3"
      },
      "execution_count": 115,
      "outputs": []
    },
    {
      "cell_type": "code",
      "source": [
        "#create a new model\n",
        "rank = 20\n",
        "model_rank = tf.keras.Sequential([\n",
        "                  Input(shape = (784,)),\n",
        "                  Flatten(),\n",
        "                  Dense(rank, activation = 'relu', use_bias = False),\n",
        "                  Dense(1024, activation = 'relu' , kernel_initializer = 'HeNormal' , use_bias = False),\n",
        "                  Dense(rank, activation = 'relu' , use_bias = False),\n",
        "                  Dense(1024, activation = 'relu' , kernel_initializer = 'HeNormal', use_bias = False),\n",
        "                  Dense(rank, activation = 'relu' , use_bias = False),\n",
        "                  Dense(1024, activation = 'relu' , kernel_initializer = 'HeNormal' , use_bias = False),\n",
        "                  Dense(rank, activation = 'relu' , use_bias = False),\n",
        "                  Dense(1024, activation = 'relu' , kernel_initializer = 'HeNormal' , use_bias = False),\n",
        "                  Dense(rank, activation = 'relu' , use_bias = False),\n",
        "                  Dense(1024, activation = 'relu' , kernel_initializer = 'HeNormal' , use_bias = False),\n",
        "                  Dense(10, activation ='softmax')])\n",
        "\n",
        "model_rank.compile(optimizer = \"Adam\", loss = 'categorical_crossentropy', metrics = ['accuracy'])\n",
        "model_rank.summary()"
      ],
      "metadata": {
        "colab": {
          "base_uri": "https://localhost:8080/"
        },
        "id": "RXycsnLd9El1",
        "outputId": "65c47f34-94cc-45bf-b7ca-6def53b0ec96"
      },
      "execution_count": 123,
      "outputs": [
        {
          "output_type": "stream",
          "name": "stdout",
          "text": [
            "Model: \"sequential_68\"\n",
            "_________________________________________________________________\n",
            " Layer (type)                Output Shape              Param #   \n",
            "=================================================================\n",
            " flatten_68 (Flatten)        (None, 784)               0         \n",
            "                                                                 \n",
            " dense_747 (Dense)           (None, 20)                15680     \n",
            "                                                                 \n",
            " dense_748 (Dense)           (None, 1024)              20480     \n",
            "                                                                 \n",
            " dense_749 (Dense)           (None, 20)                20480     \n",
            "                                                                 \n",
            " dense_750 (Dense)           (None, 1024)              20480     \n",
            "                                                                 \n",
            " dense_751 (Dense)           (None, 20)                20480     \n",
            "                                                                 \n",
            " dense_752 (Dense)           (None, 1024)              20480     \n",
            "                                                                 \n",
            " dense_753 (Dense)           (None, 20)                20480     \n",
            "                                                                 \n",
            " dense_754 (Dense)           (None, 1024)              20480     \n",
            "                                                                 \n",
            " dense_755 (Dense)           (None, 20)                20480     \n",
            "                                                                 \n",
            " dense_756 (Dense)           (None, 1024)              20480     \n",
            "                                                                 \n",
            " dense_757 (Dense)           (None, 10)                10250     \n",
            "                                                                 \n",
            "=================================================================\n",
            "Total params: 210250 (821.29 KB)\n",
            "Trainable params: 210250 (821.29 KB)\n",
            "Non-trainable params: 0 (0.00 Byte)\n",
            "_________________________________________________________________\n"
          ]
        }
      ]
    },
    {
      "cell_type": "code",
      "source": [
        "#run svd once.\n",
        "svd_tensors = [tf.linalg.svd(w) for w in weights]\n",
        "\n",
        "#d = 20\n",
        "\n",
        "approx_weights = []\n",
        "d = 20\n",
        "\n",
        "model\n",
        "\n",
        "for i in range(len(weights)):\n",
        "  #components of svd\n",
        "  s, u, v = svd_tensors[i]\n",
        "\n",
        "  #approximate singular value decomposition\n",
        "  ud = u[:, :d]\n",
        "  sd = tf.linalg.diag(s[:d])\n",
        "  vd = tf.transpose(v[:, :d])\n",
        "\n",
        "  #initialise approximate weights\n",
        "  #approx_weights.append(tf.matmul(ud, tf.matmul(sd, vd)))\n",
        "  approx_weights.append([ud , sd , vd])\n",
        "\n",
        "j = 0\n",
        "i = 0\n",
        "\n",
        "for i in range(1, 11):\n",
        "  #print(i)\n",
        "  ud , sd , vd = approx_weights[j]\n",
        "\n",
        "  if i % 2 == 1:\n",
        "    model_rank.layers[i].set_weights([ud])\n",
        "\n",
        "  else:\n",
        "    model_rank.layers[i].set_weights([tf.matmul(sd, vd)])\n",
        "    j+=1"
      ],
      "metadata": {
        "id": "Udq4sIAItXcr"
      },
      "execution_count": 124,
      "outputs": []
    },
    {
      "cell_type": "code",
      "source": [
        "model_rank.evaluate(X_test, y_test)"
      ],
      "metadata": {
        "colab": {
          "base_uri": "https://localhost:8080/"
        },
        "id": "Aa1OVPznEVJM",
        "outputId": "9cd40f16-d445-4fac-a1b9-dfbbb18bb0f5"
      },
      "execution_count": 125,
      "outputs": [
        {
          "output_type": "stream",
          "name": "stdout",
          "text": [
            "313/313 [==============================] - 1s 2ms/step - loss: 2.3128 - accuracy: 0.1271\n"
          ]
        },
        {
          "output_type": "execute_result",
          "data": {
            "text/plain": [
              "[2.3128483295440674, 0.12710000574588776]"
            ]
          },
          "metadata": {},
          "execution_count": 125
        }
      ]
    },
    {
      "cell_type": "code",
      "source": [
        "model_rank.compile(optimizer = Adam(learning_rate = 0.00001) , loss = \"categorical_crossentropy\" , metrics = [\"accuracy\"])\n",
        "history_d20 = model_rank.fit(X_train, y_train, epochs = 50, batch_size = 32 , validation_data = [X_test, y_test] )"
      ],
      "metadata": {
        "colab": {
          "base_uri": "https://localhost:8080/"
        },
        "id": "jCoMrDkt4sOA",
        "outputId": "be738ee5-f88a-4316-ad8f-d913211a91d8"
      },
      "execution_count": 126,
      "outputs": [
        {
          "output_type": "stream",
          "name": "stdout",
          "text": [
            "Epoch 1/50\n",
            "1875/1875 [==============================] - 8s 4ms/step - loss: 1.9660 - accuracy: 0.2935 - val_loss: 1.7773 - val_accuracy: 0.3683\n",
            "Epoch 2/50\n",
            "1875/1875 [==============================] - 7s 4ms/step - loss: 1.6797 - accuracy: 0.4179 - val_loss: 1.5734 - val_accuracy: 0.4602\n",
            "Epoch 3/50\n",
            "1875/1875 [==============================] - 7s 4ms/step - loss: 1.3977 - accuracy: 0.5468 - val_loss: 1.2790 - val_accuracy: 0.5877\n",
            "Epoch 4/50\n",
            "1875/1875 [==============================] - 7s 4ms/step - loss: 1.1513 - accuracy: 0.6682 - val_loss: 1.0626 - val_accuracy: 0.7113\n",
            "Epoch 5/50\n",
            "1875/1875 [==============================] - 7s 4ms/step - loss: 0.9606 - accuracy: 0.7466 - val_loss: 0.9089 - val_accuracy: 0.7728\n",
            "Epoch 6/50\n",
            "1875/1875 [==============================] - 7s 4ms/step - loss: 0.8210 - accuracy: 0.7930 - val_loss: 0.7895 - val_accuracy: 0.7940\n",
            "Epoch 7/50\n",
            "1875/1875 [==============================] - 7s 4ms/step - loss: 0.7027 - accuracy: 0.7875 - val_loss: 0.6696 - val_accuracy: 0.7761\n",
            "Epoch 8/50\n",
            "1875/1875 [==============================] - 7s 3ms/step - loss: 0.5360 - accuracy: 0.8209 - val_loss: 0.4561 - val_accuracy: 0.8794\n",
            "Epoch 9/50\n",
            "1875/1875 [==============================] - 7s 4ms/step - loss: 0.3922 - accuracy: 0.8904 - val_loss: 0.3974 - val_accuracy: 0.8933\n",
            "Epoch 10/50\n",
            "1875/1875 [==============================] - 6s 3ms/step - loss: 0.3441 - accuracy: 0.9028 - val_loss: 0.3610 - val_accuracy: 0.9035\n",
            "Epoch 11/50\n",
            "1875/1875 [==============================] - 7s 4ms/step - loss: 0.3099 - accuracy: 0.9126 - val_loss: 0.3340 - val_accuracy: 0.9096\n",
            "Epoch 12/50\n",
            "1875/1875 [==============================] - 7s 4ms/step - loss: 0.2829 - accuracy: 0.9203 - val_loss: 0.3102 - val_accuracy: 0.9164\n",
            "Epoch 13/50\n",
            "1875/1875 [==============================] - 7s 4ms/step - loss: 0.2605 - accuracy: 0.9262 - val_loss: 0.2932 - val_accuracy: 0.9189\n",
            "Epoch 14/50\n",
            "1875/1875 [==============================] - 7s 4ms/step - loss: 0.2419 - accuracy: 0.9318 - val_loss: 0.2734 - val_accuracy: 0.9250\n",
            "Epoch 15/50\n",
            "1875/1875 [==============================] - 7s 4ms/step - loss: 0.2259 - accuracy: 0.9363 - val_loss: 0.2599 - val_accuracy: 0.9276\n",
            "Epoch 16/50\n",
            "1875/1875 [==============================] - 7s 3ms/step - loss: 0.2124 - accuracy: 0.9404 - val_loss: 0.2446 - val_accuracy: 0.9324\n",
            "Epoch 17/50\n",
            "1875/1875 [==============================] - 7s 4ms/step - loss: 0.2002 - accuracy: 0.9434 - val_loss: 0.2344 - val_accuracy: 0.9357\n",
            "Epoch 18/50\n",
            "1875/1875 [==============================] - 7s 4ms/step - loss: 0.1892 - accuracy: 0.9457 - val_loss: 0.2259 - val_accuracy: 0.9382\n",
            "Epoch 19/50\n",
            "1875/1875 [==============================] - 7s 4ms/step - loss: 0.1799 - accuracy: 0.9484 - val_loss: 0.2191 - val_accuracy: 0.9400\n",
            "Epoch 20/50\n",
            "1875/1875 [==============================] - 7s 4ms/step - loss: 0.1712 - accuracy: 0.9506 - val_loss: 0.2110 - val_accuracy: 0.9428\n",
            "Epoch 21/50\n",
            "1875/1875 [==============================] - 7s 3ms/step - loss: 0.1635 - accuracy: 0.9528 - val_loss: 0.2038 - val_accuracy: 0.9430\n",
            "Epoch 22/50\n",
            "1875/1875 [==============================] - 7s 4ms/step - loss: 0.1567 - accuracy: 0.9545 - val_loss: 0.1954 - val_accuracy: 0.9457\n",
            "Epoch 23/50\n",
            "1875/1875 [==============================] - 7s 4ms/step - loss: 0.1503 - accuracy: 0.9563 - val_loss: 0.1920 - val_accuracy: 0.9469\n",
            "Epoch 24/50\n",
            "1875/1875 [==============================] - 7s 4ms/step - loss: 0.1448 - accuracy: 0.9574 - val_loss: 0.1892 - val_accuracy: 0.9480\n",
            "Epoch 25/50\n",
            "1875/1875 [==============================] - 7s 4ms/step - loss: 0.1395 - accuracy: 0.9590 - val_loss: 0.1864 - val_accuracy: 0.9487\n",
            "Epoch 26/50\n",
            "1875/1875 [==============================] - 7s 4ms/step - loss: 0.1346 - accuracy: 0.9606 - val_loss: 0.1811 - val_accuracy: 0.9503\n",
            "Epoch 27/50\n",
            "1875/1875 [==============================] - 7s 3ms/step - loss: 0.1302 - accuracy: 0.9619 - val_loss: 0.1788 - val_accuracy: 0.9513\n",
            "Epoch 28/50\n",
            "1875/1875 [==============================] - 7s 4ms/step - loss: 0.1258 - accuracy: 0.9633 - val_loss: 0.1772 - val_accuracy: 0.9515\n",
            "Epoch 29/50\n",
            "1875/1875 [==============================] - 7s 4ms/step - loss: 0.1219 - accuracy: 0.9638 - val_loss: 0.1716 - val_accuracy: 0.9540\n",
            "Epoch 30/50\n",
            "1875/1875 [==============================] - 7s 4ms/step - loss: 0.1184 - accuracy: 0.9648 - val_loss: 0.1716 - val_accuracy: 0.9543\n",
            "Epoch 31/50\n",
            "1875/1875 [==============================] - 7s 4ms/step - loss: 0.1148 - accuracy: 0.9663 - val_loss: 0.1678 - val_accuracy: 0.9537\n",
            "Epoch 32/50\n",
            "1875/1875 [==============================] - 7s 4ms/step - loss: 0.1114 - accuracy: 0.9671 - val_loss: 0.1661 - val_accuracy: 0.9549\n",
            "Epoch 33/50\n",
            "1875/1875 [==============================] - 7s 4ms/step - loss: 0.1087 - accuracy: 0.9682 - val_loss: 0.1644 - val_accuracy: 0.9563\n",
            "Epoch 34/50\n",
            "1875/1875 [==============================] - 7s 4ms/step - loss: 0.1059 - accuracy: 0.9687 - val_loss: 0.1645 - val_accuracy: 0.9561\n",
            "Epoch 35/50\n",
            "1875/1875 [==============================] - 7s 4ms/step - loss: 0.1031 - accuracy: 0.9695 - val_loss: 0.1605 - val_accuracy: 0.9563\n",
            "Epoch 36/50\n",
            "1875/1875 [==============================] - 7s 4ms/step - loss: 0.1004 - accuracy: 0.9698 - val_loss: 0.1588 - val_accuracy: 0.9568\n",
            "Epoch 37/50\n",
            "1875/1875 [==============================] - 7s 4ms/step - loss: 0.0979 - accuracy: 0.9707 - val_loss: 0.1591 - val_accuracy: 0.9575\n",
            "Epoch 38/50\n",
            "1875/1875 [==============================] - 7s 3ms/step - loss: 0.0955 - accuracy: 0.9717 - val_loss: 0.1588 - val_accuracy: 0.9583\n",
            "Epoch 39/50\n",
            "1875/1875 [==============================] - 7s 4ms/step - loss: 0.0934 - accuracy: 0.9727 - val_loss: 0.1549 - val_accuracy: 0.9581\n",
            "Epoch 40/50\n",
            "1875/1875 [==============================] - 7s 4ms/step - loss: 0.0909 - accuracy: 0.9728 - val_loss: 0.1582 - val_accuracy: 0.9568\n",
            "Epoch 41/50\n",
            "1875/1875 [==============================] - 7s 4ms/step - loss: 0.0888 - accuracy: 0.9739 - val_loss: 0.1543 - val_accuracy: 0.9589\n",
            "Epoch 42/50\n",
            "1875/1875 [==============================] - 7s 4ms/step - loss: 0.0868 - accuracy: 0.9737 - val_loss: 0.1542 - val_accuracy: 0.9586\n",
            "Epoch 43/50\n",
            "1875/1875 [==============================] - 7s 4ms/step - loss: 0.0849 - accuracy: 0.9748 - val_loss: 0.1501 - val_accuracy: 0.9596\n",
            "Epoch 44/50\n",
            "1875/1875 [==============================] - 7s 4ms/step - loss: 0.0836 - accuracy: 0.9749 - val_loss: 0.1507 - val_accuracy: 0.9608\n",
            "Epoch 45/50\n",
            "1875/1875 [==============================] - 7s 4ms/step - loss: 0.0814 - accuracy: 0.9756 - val_loss: 0.1558 - val_accuracy: 0.9602\n",
            "Epoch 46/50\n",
            "1875/1875 [==============================] - 7s 4ms/step - loss: 0.0795 - accuracy: 0.9766 - val_loss: 0.1508 - val_accuracy: 0.9606\n",
            "Epoch 47/50\n",
            "1875/1875 [==============================] - 7s 4ms/step - loss: 0.0781 - accuracy: 0.9768 - val_loss: 0.1528 - val_accuracy: 0.9599\n",
            "Epoch 48/50\n",
            "1875/1875 [==============================] - 7s 4ms/step - loss: 0.0767 - accuracy: 0.9771 - val_loss: 0.1525 - val_accuracy: 0.9591\n",
            "Epoch 49/50\n",
            "1875/1875 [==============================] - 7s 4ms/step - loss: 0.0746 - accuracy: 0.9779 - val_loss: 0.1497 - val_accuracy: 0.9617\n",
            "Epoch 50/50\n",
            "1875/1875 [==============================] - 7s 4ms/step - loss: 0.0735 - accuracy: 0.9779 - val_loss: 0.1510 - val_accuracy: 0.9610\n"
          ]
        }
      ]
    },
    {
      "cell_type": "code",
      "source": [
        "model_rank.save(f'/content/gdrive/MyDrive/DLS/HW3/models/svd-d20.h5')\n",
        "test_acc_svd_d20 = model_rank.evaluate(X_test , y_test)[1]\n",
        "test_acc_svd_d20"
      ],
      "metadata": {
        "colab": {
          "base_uri": "https://localhost:8080/"
        },
        "id": "2KjsBKlzUUg5",
        "outputId": "c7215893-2bc7-4149-d181-bd78d62141c2"
      },
      "execution_count": 127,
      "outputs": [
        {
          "output_type": "stream",
          "name": "stderr",
          "text": [
            "/usr/local/lib/python3.10/dist-packages/keras/src/engine/training.py:3079: UserWarning: You are saving your model as an HDF5 file via `model.save()`. This file format is considered legacy. We recommend using instead the native Keras format, e.g. `model.save('my_model.keras')`.\n",
            "  saving_api.save_model(\n"
          ]
        },
        {
          "output_type": "stream",
          "name": "stdout",
          "text": [
            "313/313 [==============================] - 1s 2ms/step - loss: 0.1510 - accuracy: 0.9610\n"
          ]
        },
        {
          "output_type": "execute_result",
          "data": {
            "text/plain": [
              "0.9610000252723694"
            ]
          },
          "metadata": {},
          "execution_count": 127
        }
      ]
    },
    {
      "cell_type": "code",
      "source": [
        "#save accuracies\n",
        "data = {'Epoch': list(range(1, len(history_d20.history['val_accuracy']) + 1)),\n",
        "        'Training Accuracy' : history_d20.history['accuracy'],\n",
        "        'Validation Accuracy': history_d20.history['val_accuracy']}\n",
        "df = pd.DataFrame(data)\n",
        "\n",
        "folder = '/content/gdrive/MyDrive/DLS/HW3/csv/'\n",
        "csv_filename = 'svd-d20-q2.csv'\n",
        "df.to_csv(folder + csv_filename, index=False)"
      ],
      "metadata": {
        "id": "oBOYZ3qv9axC"
      },
      "execution_count": 128,
      "outputs": []
    },
    {
      "cell_type": "code",
      "source": [
        "#Plot the accuracies#plot the test accuracies\n",
        "folder = '/content/gdrive/MyDrive/DLS/HW3/csv/'\n",
        "csv_filename1 = 'baseline-q1.csv'\n",
        "df1 = pd.read_csv(folder + csv_filename1)\n",
        "csv_filename2 = 'svd-d20-q2.csv'\n",
        "df2 = pd.read_csv(folder + csv_filename2)\n",
        "\n",
        "#plot the test accuracies from both DataFrames\n",
        "plt.plot(df1['Epoch'], df1['Validation Accuracy'], label='Baseline')\n",
        "plt.plot(df2['Epoch'], df2['Validation Accuracy'], label='svd d = 20')\n",
        "plt.xlabel('Epochs')\n",
        "plt.ylabel('Validation Accuracy')\n",
        "plt.legend()\n",
        "plt.title('MNIST SVD Accuracy')\n",
        "plt.show()\n"
      ],
      "metadata": {
        "colab": {
          "base_uri": "https://localhost:8080/",
          "height": 472
        },
        "id": "SO8ZgMEIEOC6",
        "outputId": "79d98798-e777-4010-a85f-9d78077cb6aa"
      },
      "execution_count": 129,
      "outputs": [
        {
          "output_type": "display_data",
          "data": {
            "text/plain": [
              "<Figure size 640x480 with 1 Axes>"
            ],
            "image/png": "[encoded data removed]"
          },
          "metadata": {}
        }
      ]
    },
    {
      "cell_type": "code",
      "source": [
        "param_count = 0\n",
        "param_count2 = 0\n",
        "\n",
        "for layer in model_rank.layers:\n",
        "  weights = layer.get_weights()\n",
        "  param_count += sum([w.size for w in weights])\n",
        "\n",
        "for layer in model.layers:\n",
        "  weights = layer.get_weights()\n",
        "  param_count2 += sum([w.size for w in weights])\n",
        "\n",
        "print(f\"Total Parameters of Compresed Network: {param_count}\")\n",
        "print(f\"Total Parameters of Baseline Network: {param_count2}\")\n",
        "print(f\"Parameters of d = 20 is: {param_count*100/param_count2}% of baseline parameters \")"
      ],
      "metadata": {
        "colab": {
          "base_uri": "https://localhost:8080/"
        },
        "id": "XetSePSNBRuS",
        "outputId": "3a85256d-0178-47a1-b84c-b98465bf5fe8"
      },
      "execution_count": 134,
      "outputs": [
        {
          "output_type": "stream",
          "name": "stdout",
          "text": [
            "Total Parameters of Compresed Network: 210250\n",
            "Total Parameters of Baseline Network: 5012490\n",
            "Parameters of d = 20 is: 4.194522083834581% of baseline parameters \n"
          ]
        }
      ]
    },
    {
      "cell_type": "markdown",
      "source": [
        "Q3"
      ],
      "metadata": {
        "id": "gPpa4zyJNG1F"
      }
    },
    {
      "cell_type": "code",
      "source": [
        "from tensorflow.keras.layers import Layer\n",
        "\n",
        "class customlayer(Layer):\n",
        "  def __init__(self, units = None, rank = None, kernel_initializer = None, bias_initializer = None):\n",
        "    super(customlayer, self).__init__()\n",
        "    self.units = units\n",
        "    self.rank = rank\n",
        "    self.kernel_initializer = kernel_initializer\n",
        "    self.bias_initializer = bias_initializer\n",
        "\n",
        "  def build(self, input_shape):\n",
        "    #weights\n",
        "    if self.kernel_initializer is None:\n",
        "      w_init = tf.keras.initializers.HeNormal()\n",
        "\n",
        "    else:\n",
        "      w_init = self.kernel_initializer\n",
        "\n",
        "    self.w = tf.Variable(name='kernel', initial_value=w_init((input_shape[-1], self.units), dtype='float32'), trainable=True)\n",
        "\n",
        "    #bias\n",
        "    if self.bias_initializer is None:\n",
        "      b_init = tf.keras.initializers.Zeros()\n",
        "\n",
        "    else:\n",
        "      b_init = self.bias_initializer\n",
        "\n",
        "    self.b = tf.Variable(name='bias', initial_value = b_init(shape = (self.units,), dtype='float32'), trainable=True)\n",
        "\n",
        "\n",
        "  def call(self, inputs):\n",
        "\n",
        "    s, u, v = tf.linalg.svd(self.w)\n",
        "\n",
        "    #approximate singular value decomposition\n",
        "    ud = u[:, :self.rank]\n",
        "    sd = tf.linalg.diag(s[:self.rank])\n",
        "    vd = tf.transpose(v[:, :self.rank])\n",
        "\n",
        "    weight_approx = tf.matmul(ud, tf.matmul(sd, vd))\n",
        "    return tf.nn.relu(tf.matmul(inputs, self.w) + self.b)\n",
        "\n",
        "  def get_config(self):\n",
        "\n",
        "    config = super().get_config()\n",
        "    config.update({\n",
        "        \"units\": self.units,\n",
        "        \"rank\": self.rank,\n",
        "        \"kernel_initializer\": self.kernel_initializer,\n",
        "        \"bias_initializer\": self.bias_initializer\n",
        "    })\n",
        "\n",
        "    return config"
      ],
      "metadata": {
        "id": "OJgZ4gMzd8Vu"
      },
      "execution_count": 43,
      "outputs": []
    },
    {
      "cell_type": "code",
      "source": [
        "from keras.models import load_model\n",
        "model_base = load_model('/content/gdrive/MyDrive/DLS/HW3/models/baseline.h5')\n",
        "\n",
        "#get weights for W(1) to W(5)\n",
        "baseline_weights = []\n",
        "for layer in model_base.layers[1:-1]:\n",
        "  baseline_weights.append(layer.get_weights())"
      ],
      "metadata": {
        "id": "q9FN4ltzd8Y4"
      },
      "execution_count": 39,
      "outputs": []
    },
    {
      "cell_type": "code",
      "source": [
        "#custom model\n",
        "from tensorflow.keras.initializers import Constant\n",
        "\n",
        "model = tf.keras.Sequential()\n",
        "model.add(tf.keras.layers.Flatten(input_shape = (784,)))\n",
        "\n",
        "for i in range(5):\n",
        "  model.add(customlayer(units = 1024, rank = 20, kernel_initializer = Constant(baseline_weights[i][0]), bias_initializer = Constant(baseline_weights[i][1])))\n",
        "\n",
        "model.add(tf.keras.layers.Dense(10, activation ='softmax'))\n",
        "model.summary()"
      ],
      "metadata": {
        "id": "tw4IUKpkd8c3",
        "colab": {
          "base_uri": "https://localhost:8080/"
        },
        "outputId": "db9ac74d-9216-41af-cf61-057f11a13c60"
      },
      "execution_count": 40,
      "outputs": [
        {
          "output_type": "stream",
          "name": "stdout",
          "text": [
            "Model: \"sequential_7\"\n",
            "_________________________________________________________________\n",
            " Layer (type)                Output Shape              Param #   \n",
            "=================================================================\n",
            " flatten_7 (Flatten)         (None, 784)               0         \n",
            "                                                                 \n",
            " customlayer_15 (customlaye  (None, 1024)              803840    \n",
            " r)                                                              \n",
            "                                                                 \n",
            " customlayer_16 (customlaye  (None, 1024)              1049600   \n",
            " r)                                                              \n",
            "                                                                 \n",
            " customlayer_17 (customlaye  (None, 1024)              1049600   \n",
            " r)                                                              \n",
            "                                                                 \n",
            " customlayer_18 (customlaye  (None, 1024)              1049600   \n",
            " r)                                                              \n",
            "                                                                 \n",
            " customlayer_19 (customlaye  (None, 1024)              1049600   \n",
            " r)                                                              \n",
            "                                                                 \n",
            " dense_2 (Dense)             (None, 10)                10250     \n",
            "                                                                 \n",
            "=================================================================\n",
            "Total params: 5012490 (19.12 MB)\n",
            "Trainable params: 5012490 (19.12 MB)\n",
            "Non-trainable params: 0 (0.00 Byte)\n",
            "_________________________________________________________________\n"
          ]
        }
      ]
    },
    {
      "cell_type": "code",
      "source": [
        "#fit model\n",
        "model.compile(optimizer = Adam(learning_rate = 0.0001), loss = 'categorical_crossentropy', metrics = ['accuracy'])\n",
        "history = model.fit(X_train, y_train, batch_size = 128, epochs = 10, validation_split = 0.2)"
      ],
      "metadata": {
        "id": "oPigGqbCd8gc",
        "colab": {
          "base_uri": "https://localhost:8080/"
        },
        "outputId": "d956fd4f-b49a-43e0-8a59-228ac5eeecd8"
      },
      "execution_count": 41,
      "outputs": [
        {
          "output_type": "stream",
          "name": "stdout",
          "text": [
            "Epoch 1/10\n",
            "375/375 [==============================] - 19s 46ms/step - loss: 1.8580 - accuracy: 0.7481 - val_loss: 0.1739 - val_accuracy: 0.9726\n",
            "Epoch 2/10\n",
            "375/375 [==============================] - 16s 42ms/step - loss: 0.0314 - accuracy: 0.9975 - val_loss: 0.1363 - val_accuracy: 0.9789\n",
            "Epoch 3/10\n",
            "375/375 [==============================] - 17s 44ms/step - loss: 0.0081 - accuracy: 0.9995 - val_loss: 0.1421 - val_accuracy: 0.9803\n",
            "Epoch 4/10\n",
            "375/375 [==============================] - 16s 42ms/step - loss: 0.0034 - accuracy: 0.9998 - val_loss: 0.1522 - val_accuracy: 0.9806\n",
            "Epoch 5/10\n",
            "375/375 [==============================] - 16s 42ms/step - loss: 0.0017 - accuracy: 0.9999 - val_loss: 0.1617 - val_accuracy: 0.9810\n",
            "Epoch 6/10\n",
            "375/375 [==============================] - 15s 41ms/step - loss: 9.4763e-04 - accuracy: 0.9999 - val_loss: 0.1696 - val_accuracy: 0.9814\n",
            "Epoch 7/10\n",
            "375/375 [==============================] - 16s 41ms/step - loss: 5.4539e-04 - accuracy: 1.0000 - val_loss: 0.1784 - val_accuracy: 0.9814\n",
            "Epoch 8/10\n",
            "375/375 [==============================] - 16s 43ms/step - loss: 3.1964e-04 - accuracy: 1.0000 - val_loss: 0.1852 - val_accuracy: 0.9815\n",
            "Epoch 9/10\n",
            "375/375 [==============================] - 16s 42ms/step - loss: 1.7234e-04 - accuracy: 1.0000 - val_loss: 0.1920 - val_accuracy: 0.9817\n",
            "Epoch 10/10\n",
            "375/375 [==============================] - 15s 41ms/step - loss: 9.8893e-05 - accuracy: 1.0000 - val_loss: 0.1978 - val_accuracy: 0.9818\n"
          ]
        }
      ]
    },
    {
      "cell_type": "code",
      "source": [
        "model.save(f'/content/gdrive/MyDrive/DLS/HW3/models/svd-epoch.h5')"
      ],
      "metadata": {
        "id": "V0jmXFliMWtI"
      },
      "execution_count": null,
      "outputs": []
    },
    {
      "cell_type": "code",
      "source": [
        "#save accuracies\n",
        "data = {'Epoch': list(range(1, len(history.history['val_accuracy']) + 1)),\n",
        "        'Training Accuracy' : history.history['accuracy'],\n",
        "        'Validation Accuracy': history.history['val_accuracy']}\n",
        "df = pd.DataFrame(data)\n",
        "\n",
        "folder = '/content/gdrive/MyDrive/DLS/HW3/csv/'\n",
        "csv_filename = 'svd-q3.csv'\n",
        "df.to_csv(folder + csv_filename, index=False)"
      ],
      "metadata": {
        "id": "3uWARNH8udWQ"
      },
      "execution_count": 45,
      "outputs": []
    },
    {
      "cell_type": "code",
      "source": [
        "test_acc = model.evaluate(X_test, y_test)\n",
        "test_acc"
      ],
      "metadata": {
        "colab": {
          "base_uri": "https://localhost:8080/"
        },
        "id": "e9X1d6qhHgAX",
        "outputId": "7ed94c2d-75b4-4489-b71c-87dc73638940"
      },
      "execution_count": 46,
      "outputs": [
        {
          "output_type": "stream",
          "name": "stdout",
          "text": [
            "313/313 [==============================] - 3s 8ms/step - loss: 0.1496 - accuracy: 0.9838\n"
          ]
        },
        {
          "output_type": "execute_result",
          "data": {
            "text/plain": [
              "[0.14957626163959503, 0.9837999939918518]"
            ]
          },
          "metadata": {},
          "execution_count": 46
        }
      ]
    },
    {
      "cell_type": "markdown",
      "source": [
        "Since , here I have made changes in the baseline model, we can see that there are same number of parameters.\n",
        "\n",
        "- However, if we make a new model and by the use of svd we can see that:\n",
        "for every hidden dense layer in the base line model has 1024 x 1024 parameters = 1048576.\n",
        "\n",
        "But when we use the parameters of derived from svd, we get u x s x d which for example for d = 20 will be\n",
        "\n",
        "- u x s = 784 x 20 = 15680\n",
        "- u x s x d = 20 x 1024 = 20480\n",
        "- which gives us 15680 + 20480 = 36160 parameters which is 3.4% of 1 hidden dense of the baseline parameters"
      ],
      "metadata": {
        "id": "al7YIaQBNzjF"
      }
    },
    {
      "cell_type": "markdown",
      "source": [
        "Q4. Speaker Verification:\n",
        "  - Siamese network : Take two inputs, and predict if they are from the same user."
      ],
      "metadata": {
        "id": "tGQlotGDMmeJ"
      }
    },
    {
      "cell_type": "code",
      "source": [
        "import librosa\n",
        "import pickle\n",
        "from itertools import combinations\n",
        "from itertools import product\n",
        "from itertools import chain\n",
        "import random\n",
        "\n",
        "from tensorflow.keras.layers import Input, Dense, GRU, Dropout, Conv1D , MaxPooling1D, Flatten"
      ],
      "metadata": {
        "id": "5wHWoKivxVEJ"
      },
      "execution_count": 6,
      "outputs": []
    },
    {
      "cell_type": "code",
      "source": [
        "#training set\n",
        "with open('trs.pkl', 'rb') as f:\n",
        "  trs = pickle.load(f)"
      ],
      "metadata": {
        "id": "M4m5APFuMnGZ"
      },
      "execution_count": 7,
      "outputs": []
    },
    {
      "cell_type": "code",
      "source": [
        "#testing set\n",
        "with open('tes.pkl', 'rb') as f:\n",
        "  tes = pickle.load(f)"
      ],
      "metadata": {
        "id": "btls6iYgwZwa"
      },
      "execution_count": 8,
      "outputs": []
    },
    {
      "cell_type": "code",
      "source": [
        "trs.shape , tes.shape, tes.shape[1]"
      ],
      "metadata": {
        "colab": {
          "base_uri": "https://localhost:8080/"
        },
        "id": "5ic10HrIwZzR",
        "outputId": "a5d7921e-9b1a-4d46-eaee-9d8fa5839ec5"
      },
      "execution_count": 9,
      "outputs": [
        {
          "output_type": "execute_result",
          "data": {
            "text/plain": [
              "((500, 16180), (200, 22631), 22631)"
            ]
          },
          "metadata": {},
          "execution_count": 9
        }
      ]
    },
    {
      "cell_type": "code",
      "source": [
        "#training set has 10 utterances and 50 speakers: 500\n",
        "#test set has 20 utterances and 10 utterances: 200"
      ],
      "metadata": {
        "id": "Wh1AH4gfwZ2F"
      },
      "execution_count": 62,
      "outputs": []
    },
    {
      "cell_type": "code",
      "source": [
        "#make the speech signal of the same length for train and test set.\n",
        "trs_padded = np.zeros((500, tes.shape[1]))\n",
        "trs_padded[:, :trs.shape[1]] = trs"
      ],
      "metadata": {
        "id": "ui6IzqkvwZ5E"
      },
      "execution_count": 10,
      "outputs": []
    },
    {
      "cell_type": "code",
      "source": [
        "trs_padded.shape"
      ],
      "metadata": {
        "colab": {
          "base_uri": "https://localhost:8080/"
        },
        "id": "mKYAqnMhwZ9N",
        "outputId": "364d20b6-392a-49e4-c87b-5de182c1fae2"
      },
      "execution_count": 11,
      "outputs": [
        {
          "output_type": "execute_result",
          "data": {
            "text/plain": [
              "(500, 22631)"
            ]
          },
          "metadata": {},
          "execution_count": 11
        }
      ]
    },
    {
      "cell_type": "code",
      "source": [
        "#stft train\n",
        "train = []\n",
        "\n",
        "for i in range(500):\n",
        "  s = librosa.stft(trs_padded[i], n_fft = 1024, hop_length = 512)\n",
        "  train.append(s)\n",
        "\n",
        "train = np.asarray(train)"
      ],
      "metadata": {
        "id": "FQRzWeF_B4g-"
      },
      "execution_count": 12,
      "outputs": []
    },
    {
      "cell_type": "code",
      "source": [
        "train.shape"
      ],
      "metadata": {
        "colab": {
          "base_uri": "https://localhost:8080/"
        },
        "id": "n_tKDOvGCj2o",
        "outputId": "a0196981-fe2b-4eb8-840d-58e12c106037"
      },
      "execution_count": 13,
      "outputs": [
        {
          "output_type": "execute_result",
          "data": {
            "text/plain": [
              "(500, 513, 45)"
            ]
          },
          "metadata": {},
          "execution_count": 13
        }
      ]
    },
    {
      "cell_type": "code",
      "source": [
        "#stft test\n",
        "test = []\n",
        "\n",
        "for i in range(200):\n",
        "  s = librosa.stft(tes[i] , n_fft = 1024, hop_length = 512)\n",
        "  test.append(s)\n",
        "\n",
        "test = np.asarray(test)"
      ],
      "metadata": {
        "id": "U9LBctIEB535"
      },
      "execution_count": 14,
      "outputs": []
    },
    {
      "cell_type": "code",
      "source": [
        "test.shape"
      ],
      "metadata": {
        "colab": {
          "base_uri": "https://localhost:8080/"
        },
        "id": "RBoFLGsJCxnZ",
        "outputId": "6222d79d-1dd5-4236-909e-1a2fdf921bd1"
      },
      "execution_count": 15,
      "outputs": [
        {
          "output_type": "execute_result",
          "data": {
            "text/plain": [
              "(200, 513, 45)"
            ]
          },
          "metadata": {},
          "execution_count": 15
        }
      ]
    },
    {
      "cell_type": "code",
      "source": [
        "train = np.abs(train).transpose((0, 2, 1))\n",
        "test = np.abs(test).transpose((0, 2 ,1))\n",
        "train.shape , test.shape"
      ],
      "metadata": {
        "colab": {
          "base_uri": "https://localhost:8080/"
        },
        "id": "5dR17nSFITuF",
        "outputId": "466dabbf-afdc-4b1f-8055-bd4259713a6e"
      },
      "execution_count": 16,
      "outputs": [
        {
          "output_type": "execute_result",
          "data": {
            "text/plain": [
              "((500, 45, 513), (200, 45, 513))"
            ]
          },
          "metadata": {},
          "execution_count": 16
        }
      ]
    },
    {
      "cell_type": "markdown",
      "source": [
        "Siamaese network contains two identical subnetworks."
      ],
      "metadata": {
        "id": "lrleTw8z3v7j"
      }
    },
    {
      "cell_type": "code",
      "source": [
        "def pos_neg_pairs(train):\n",
        "  #across all speakers\n",
        "  pos_pairs_all = []\n",
        "  pos_labels_all = []\n",
        "  neg_pairs_all = []\n",
        "  neg_labels_all = []\n",
        "\n",
        "  for i in range(0, len(train) , 10):\n",
        "    #positive pairs 10 C 2 : since 10 utterances for every speaker, 10 C 2 = 45 possible pairs. L positive pairs\n",
        "    pos_speaker = train[i:i+10]\n",
        "    pos_pairs = list(combinations(pos_speaker , 2))\n",
        "    pos_pairs_all += pos_pairs\n",
        "    #print(len(pos_pairs))\n",
        "\n",
        "    #negative pairs choose L pairs from negative pairs\n",
        "    neg_speaker = list(chain(train[:i] , train[i+10:]))\n",
        "    neg_list = list(product(neg_speaker , pos_speaker))\n",
        "    neg_pairs = random.sample(neg_list, 45)\n",
        "    neg_pairs_all += neg_pairs\n",
        "\n",
        "  pos_labels_all = [1 for i in range(len(pos_pairs_all))]\n",
        "  neg_labels_all = [0 for i in range(len(neg_pairs_all))]\n",
        "\n",
        "  #combine the pairs and create a train set. 2L pairs.\n",
        "  combine_pairs = pos_pairs_all + neg_pairs_all\n",
        "  combine_labels = pos_labels_all + neg_labels_all\n",
        "\n",
        "  #shuffle the pairs in sync with the labels\n",
        "  temp = list(zip(combine_pairs, combine_labels))\n",
        "  random.shuffle(temp)\n",
        "  combine_pairs, combine_labels = zip(*temp)\n",
        "\n",
        "  combine_pairs = np.asarray(combine_pairs)\n",
        "  combine_labels = np.asarray(combine_labels)\n",
        "\n",
        "  return combine_pairs, combine_labels"
      ],
      "metadata": {
        "id": "BMiri684waAl"
      },
      "execution_count": 17,
      "outputs": []
    },
    {
      "cell_type": "code",
      "source": [
        "#for train set\n",
        "train_pairs,train_labels = pos_neg_pairs(train)\n",
        "#for test set\n",
        "test_pairs , test_labels = pos_neg_pairs(test)"
      ],
      "metadata": {
        "id": "BAewTIGYj1UM"
      },
      "execution_count": 18,
      "outputs": []
    },
    {
      "cell_type": "code",
      "source": [
        "train_pairs.shape , train_labels.shape , test_pairs.shape , test_labels.shape"
      ],
      "metadata": {
        "colab": {
          "base_uri": "https://localhost:8080/"
        },
        "id": "mD62kTzwj7zm",
        "outputId": "7588e4e9-2171-4ab1-a723-14d493714b12"
      },
      "execution_count": 19,
      "outputs": [
        {
          "output_type": "execute_result",
          "data": {
            "text/plain": [
              "((4500, 2, 45, 513), (4500,), (1800, 2, 45, 513), (1800,))"
            ]
          },
          "metadata": {},
          "execution_count": 19
        }
      ]
    },
    {
      "cell_type": "code",
      "source": [
        "left_train_pairs = train_pairs[:,0,:,:]\n",
        "right_train_pairs = train_pairs[:,1,:,:]\n",
        "\n",
        "left_test_pairs = test_pairs[:,0,:,:]\n",
        "right_test_pairs = test_pairs[:,1,:,:]"
      ],
      "metadata": {
        "id": "qAu-wAN4k2J-"
      },
      "execution_count": 20,
      "outputs": []
    },
    {
      "cell_type": "code",
      "source": [
        "#siamese network:\n",
        "#input - 2 spectrograms 513 xT\n",
        "#feature extr - stft\n",
        "#output a fixed length vector\n",
        "#sigmoid\n",
        "#gru\n",
        "#70% test accuracy"
      ],
      "metadata": {
        "id": "jA1b3PYIkPUa"
      },
      "execution_count": 106,
      "outputs": []
    },
    {
      "cell_type": "code",
      "source": [
        "#left and right input\n",
        "left_input = Input(shape = (None, 513))\n",
        "right_input = Input(shape = (None, 513))\n",
        "\n",
        "#gru\n",
        "gru = GRU(128)\n",
        "left_encoded = gru(left_input)\n",
        "right_encoded = gru(right_input)\n",
        "\n",
        "#dropout\n",
        "left_encoded = Dropout(0.2)(left_encoded)\n",
        "right_encoded = Dropout(0.2)(right_encoded)\n",
        "\n",
        "#embedding vector\n",
        "left_embedding = Dense(32)(left_encoded)\n",
        "right_embedding = Dense(32)(right_encoded)\n",
        "\n",
        "#use the inner product of the two latent embedding products\n",
        "inner_product = tf.keras.layers.Dot(1)([left_embedding, right_embedding])\n",
        "\n",
        "#sigmoid function\n",
        "logistic_regression = Dense(1 , activation = 'sigmoid')(inner_product)\n",
        "\n",
        "#model\n",
        "model = tf.keras.models.Model(inputs = [left_input, right_input], outputs = logistic_regression)\n",
        "model.compile(optimizer = 'Adam', loss = 'binary_crossentropy', metrics = ['accuracy'])\n",
        "model.summary()"
      ],
      "metadata": {
        "colab": {
          "base_uri": "https://localhost:8080/"
        },
        "id": "TwM4dI5D_O03",
        "outputId": "e33f7283-2b63-44b4-b1fd-e4ebfc538052"
      },
      "execution_count": 39,
      "outputs": [
        {
          "output_type": "stream",
          "name": "stdout",
          "text": [
            "Model: \"model_6\"\n",
            "__________________________________________________________________________________________________\n",
            " Layer (type)                Output Shape                 Param #   Connected to                  \n",
            "==================================================================================================\n",
            " input_23 (InputLayer)       [(None, None, 513)]          0         []                            \n",
            "                                                                                                  \n",
            " input_24 (InputLayer)       [(None, None, 513)]          0         []                            \n",
            "                                                                                                  \n",
            " gru_13 (GRU)                (None, 128)                  246912    ['input_23[0][0]',            \n",
            "                                                                     'input_24[0][0]']            \n",
            "                                                                                                  \n",
            " dropout_10 (Dropout)        (None, 128)                  0         ['gru_13[0][0]']              \n",
            "                                                                                                  \n",
            " dropout_11 (Dropout)        (None, 128)                  0         ['gru_13[1][0]']              \n",
            "                                                                                                  \n",
            " dense_11 (Dense)            (None, 32)                   4128      ['dropout_10[0][0]']          \n",
            "                                                                                                  \n",
            " dense_12 (Dense)            (None, 32)                   4128      ['dropout_11[0][0]']          \n",
            "                                                                                                  \n",
            " dot_3 (Dot)                 (None, 1)                    0         ['dense_11[0][0]',            \n",
            "                                                                     'dense_12[0][0]']            \n",
            "                                                                                                  \n",
            " dense_13 (Dense)            (None, 1)                    2         ['dot_3[0][0]']               \n",
            "                                                                                                  \n",
            "==================================================================================================\n",
            "Total params: 255170 (996.76 KB)\n",
            "Trainable params: 255170 (996.76 KB)\n",
            "Non-trainable params: 0 (0.00 Byte)\n",
            "__________________________________________________________________________________________________\n"
          ]
        }
      ]
    },
    {
      "cell_type": "markdown",
      "source": [
        "gru , batch size  epochs test acc\n",
        "- 64, 128 ; 100; 52\n",
        "- 64, 128 ;200;  63\n",
        "- 64, 128 ; 300; 61\n",
        "- 64, 64; 200; const loss\n",
        "- 128, 32, 100, 51\n",
        "- 128 , 256, 200 , 70%\n"
      ],
      "metadata": {
        "id": "eGJ5Al66_Mz9"
      }
    },
    {
      "cell_type": "code",
      "source": [
        "#fit model\n",
        "history = model.fit([left_train_pairs, right_train_pairs], train_labels,  batch_size = 256 ,epochs = 200)"
      ],
      "metadata": {
        "colab": {
          "base_uri": "https://localhost:8080/"
        },
        "id": "QMzsK-EjrZkK",
        "outputId": "4bc5533e-fe20-490a-a911-6e03d03f5423"
      },
      "execution_count": 40,
      "outputs": [
        {
          "output_type": "stream",
          "name": "stdout",
          "text": [
            "Epoch 1/200\n",
            "18/18 [==============================] - 9s 191ms/step - loss: 0.6932 - accuracy: 0.4971\n",
            "Epoch 2/200\n",
            "18/18 [==============================] - 3s 182ms/step - loss: 0.6932 - accuracy: 0.5000\n",
            "Epoch 3/200\n",
            "18/18 [==============================] - 3s 186ms/step - loss: 0.6931 - accuracy: 0.5071\n",
            "Epoch 4/200\n",
            "18/18 [==============================] - 3s 192ms/step - loss: 0.6900 - accuracy: 0.5418\n",
            "Epoch 5/200\n",
            "18/18 [==============================] - 4s 195ms/step - loss: 0.6777 - accuracy: 0.5700\n",
            "Epoch 6/200\n",
            "18/18 [==============================] - 3s 183ms/step - loss: 0.6646 - accuracy: 0.6091\n",
            "Epoch 7/200\n",
            "18/18 [==============================] - 3s 181ms/step - loss: 0.6384 - accuracy: 0.6416\n",
            "Epoch 8/200\n",
            "18/18 [==============================] - 3s 186ms/step - loss: 0.6120 - accuracy: 0.6651\n",
            "Epoch 9/200\n",
            "18/18 [==============================] - 4s 197ms/step - loss: 0.5960 - accuracy: 0.6747\n",
            "Epoch 10/200\n",
            "18/18 [==============================] - 3s 180ms/step - loss: 0.5844 - accuracy: 0.6829\n",
            "Epoch 11/200\n",
            "18/18 [==============================] - 3s 184ms/step - loss: 0.5663 - accuracy: 0.6991\n",
            "Epoch 12/200\n",
            "18/18 [==============================] - 3s 182ms/step - loss: 0.5629 - accuracy: 0.7000\n",
            "Epoch 13/200\n",
            "18/18 [==============================] - 4s 197ms/step - loss: 0.5501 - accuracy: 0.7164\n",
            "Epoch 14/200\n",
            "18/18 [==============================] - 3s 182ms/step - loss: 0.5449 - accuracy: 0.7127\n",
            "Epoch 15/200\n",
            "18/18 [==============================] - 3s 186ms/step - loss: 0.5351 - accuracy: 0.7191\n",
            "Epoch 16/200\n",
            "18/18 [==============================] - 3s 182ms/step - loss: 0.5330 - accuracy: 0.7191\n",
            "Epoch 17/200\n",
            "18/18 [==============================] - 4s 201ms/step - loss: 0.5182 - accuracy: 0.7324\n",
            "Epoch 18/200\n",
            "18/18 [==============================] - 3s 186ms/step - loss: 0.4945 - accuracy: 0.7509\n",
            "Epoch 19/200\n",
            "18/18 [==============================] - 3s 186ms/step - loss: 0.4357 - accuracy: 0.7987\n",
            "Epoch 20/200\n",
            "18/18 [==============================] - 3s 181ms/step - loss: 0.4052 - accuracy: 0.8200\n",
            "Epoch 21/200\n",
            "18/18 [==============================] - 4s 201ms/step - loss: 0.3989 - accuracy: 0.8207\n",
            "Epoch 22/200\n",
            "18/18 [==============================] - 3s 191ms/step - loss: 0.3674 - accuracy: 0.8380\n",
            "Epoch 23/200\n",
            "18/18 [==============================] - 3s 183ms/step - loss: 0.3394 - accuracy: 0.8538\n",
            "Epoch 24/200\n",
            "18/18 [==============================] - 3s 185ms/step - loss: 0.3352 - accuracy: 0.8596\n",
            "Epoch 25/200\n",
            "18/18 [==============================] - 3s 195ms/step - loss: 0.2989 - accuracy: 0.8791\n",
            "Epoch 26/200\n",
            "18/18 [==============================] - 4s 194ms/step - loss: 0.2786 - accuracy: 0.8891\n",
            "Epoch 27/200\n",
            "18/18 [==============================] - 3s 181ms/step - loss: 0.2783 - accuracy: 0.8896\n",
            "Epoch 28/200\n",
            "18/18 [==============================] - 3s 184ms/step - loss: 0.2521 - accuracy: 0.9020\n",
            "Epoch 29/200\n",
            "18/18 [==============================] - 3s 193ms/step - loss: 0.2383 - accuracy: 0.9076\n",
            "Epoch 30/200\n",
            "18/18 [==============================] - 3s 193ms/step - loss: 0.2394 - accuracy: 0.9091\n",
            "Epoch 31/200\n",
            "18/18 [==============================] - 3s 182ms/step - loss: 0.2152 - accuracy: 0.9189\n",
            "Epoch 32/200\n",
            "18/18 [==============================] - 3s 184ms/step - loss: 0.2134 - accuracy: 0.9171\n",
            "Epoch 33/200\n",
            "18/18 [==============================] - 3s 187ms/step - loss: 0.1934 - accuracy: 0.9251\n",
            "Epoch 34/200\n",
            "18/18 [==============================] - 4s 198ms/step - loss: 0.1810 - accuracy: 0.9333\n",
            "Epoch 35/200\n",
            "18/18 [==============================] - 3s 183ms/step - loss: 0.1651 - accuracy: 0.9416\n",
            "Epoch 36/200\n",
            "18/18 [==============================] - 3s 179ms/step - loss: 0.1790 - accuracy: 0.9309\n",
            "Epoch 37/200\n",
            "18/18 [==============================] - 3s 190ms/step - loss: 0.1597 - accuracy: 0.9411\n",
            "Epoch 38/200\n",
            "18/18 [==============================] - 4s 202ms/step - loss: 0.1461 - accuracy: 0.9504\n",
            "Epoch 39/200\n",
            "18/18 [==============================] - 3s 182ms/step - loss: 0.1481 - accuracy: 0.9440\n",
            "Epoch 40/200\n",
            "18/18 [==============================] - 3s 182ms/step - loss: 0.1464 - accuracy: 0.9460\n",
            "Epoch 41/200\n",
            "18/18 [==============================] - 3s 188ms/step - loss: 0.1383 - accuracy: 0.9484\n",
            "Epoch 42/200\n",
            "18/18 [==============================] - 4s 201ms/step - loss: 0.1170 - accuracy: 0.9567\n",
            "Epoch 43/200\n",
            "18/18 [==============================] - 3s 186ms/step - loss: 0.1117 - accuracy: 0.9602\n",
            "Epoch 44/200\n",
            "18/18 [==============================] - 3s 183ms/step - loss: 0.1144 - accuracy: 0.9580\n",
            "Epoch 45/200\n",
            "18/18 [==============================] - 3s 181ms/step - loss: 0.1135 - accuracy: 0.9593\n",
            "Epoch 46/200\n",
            "18/18 [==============================] - 4s 202ms/step - loss: 0.1052 - accuracy: 0.9618\n",
            "Epoch 47/200\n",
            "18/18 [==============================] - 3s 190ms/step - loss: 0.1031 - accuracy: 0.9613\n",
            "Epoch 48/200\n",
            "18/18 [==============================] - 3s 184ms/step - loss: 0.1146 - accuracy: 0.9609\n",
            "Epoch 49/200\n",
            "18/18 [==============================] - 3s 181ms/step - loss: 0.1048 - accuracy: 0.9633\n",
            "Epoch 50/200\n",
            "18/18 [==============================] - 3s 191ms/step - loss: 0.0947 - accuracy: 0.9667\n",
            "Epoch 51/200\n",
            "18/18 [==============================] - 3s 193ms/step - loss: 0.1011 - accuracy: 0.9653\n",
            "Epoch 52/200\n",
            "18/18 [==============================] - 3s 187ms/step - loss: 0.0894 - accuracy: 0.9678\n",
            "Epoch 53/200\n",
            "18/18 [==============================] - 3s 187ms/step - loss: 0.0854 - accuracy: 0.9702\n",
            "Epoch 54/200\n",
            "18/18 [==============================] - 3s 192ms/step - loss: 0.0786 - accuracy: 0.9702\n",
            "Epoch 55/200\n",
            "18/18 [==============================] - 4s 201ms/step - loss: 0.0847 - accuracy: 0.9680\n",
            "Epoch 56/200\n",
            "18/18 [==============================] - 3s 187ms/step - loss: 0.0947 - accuracy: 0.9676\n",
            "Epoch 57/200\n",
            "18/18 [==============================] - 3s 181ms/step - loss: 0.0966 - accuracy: 0.9627\n",
            "Epoch 58/200\n",
            "18/18 [==============================] - 3s 187ms/step - loss: 0.1039 - accuracy: 0.9613\n",
            "Epoch 59/200\n",
            "18/18 [==============================] - 4s 202ms/step - loss: 0.0806 - accuracy: 0.9718\n",
            "Epoch 60/200\n",
            "18/18 [==============================] - 3s 181ms/step - loss: 0.0775 - accuracy: 0.9727\n",
            "Epoch 61/200\n",
            "18/18 [==============================] - 3s 186ms/step - loss: 0.0809 - accuracy: 0.9680\n",
            "Epoch 62/200\n",
            "18/18 [==============================] - 3s 185ms/step - loss: 0.0704 - accuracy: 0.9727\n",
            "Epoch 63/200\n",
            "18/18 [==============================] - 4s 201ms/step - loss: 0.0701 - accuracy: 0.9744\n",
            "Epoch 64/200\n",
            "18/18 [==============================] - 3s 182ms/step - loss: 0.0638 - accuracy: 0.9780\n",
            "Epoch 65/200\n",
            "18/18 [==============================] - 3s 182ms/step - loss: 0.0630 - accuracy: 0.9796\n",
            "Epoch 66/200\n",
            "18/18 [==============================] - 3s 179ms/step - loss: 0.0811 - accuracy: 0.9711\n",
            "Epoch 67/200\n",
            "18/18 [==============================] - 4s 196ms/step - loss: 0.0762 - accuracy: 0.9711\n",
            "Epoch 68/200\n",
            "18/18 [==============================] - 3s 183ms/step - loss: 0.0697 - accuracy: 0.9733\n",
            "Epoch 69/200\n",
            "18/18 [==============================] - 3s 178ms/step - loss: 0.0683 - accuracy: 0.9751\n",
            "Epoch 70/200\n",
            "18/18 [==============================] - 3s 185ms/step - loss: 0.0676 - accuracy: 0.9738\n",
            "Epoch 71/200\n",
            "18/18 [==============================] - 4s 197ms/step - loss: 0.0682 - accuracy: 0.9751\n",
            "Epoch 72/200\n",
            "18/18 [==============================] - 3s 192ms/step - loss: 0.0601 - accuracy: 0.9789\n",
            "Epoch 73/200\n",
            "18/18 [==============================] - 3s 184ms/step - loss: 0.0584 - accuracy: 0.9778\n",
            "Epoch 74/200\n",
            "18/18 [==============================] - 3s 183ms/step - loss: 0.0664 - accuracy: 0.9736\n",
            "Epoch 75/200\n",
            "18/18 [==============================] - 3s 193ms/step - loss: 0.0628 - accuracy: 0.9778\n",
            "Epoch 76/200\n",
            "18/18 [==============================] - 3s 193ms/step - loss: 0.0544 - accuracy: 0.9796\n",
            "Epoch 77/200\n",
            "18/18 [==============================] - 3s 183ms/step - loss: 0.0525 - accuracy: 0.9807\n",
            "Epoch 78/200\n",
            "18/18 [==============================] - 3s 186ms/step - loss: 0.0537 - accuracy: 0.9800\n",
            "Epoch 79/200\n",
            "18/18 [==============================] - 3s 192ms/step - loss: 0.0526 - accuracy: 0.9809\n",
            "Epoch 80/200\n",
            "18/18 [==============================] - 4s 197ms/step - loss: 0.0518 - accuracy: 0.9811\n",
            "Epoch 81/200\n",
            "18/18 [==============================] - 3s 181ms/step - loss: 0.0501 - accuracy: 0.9811\n",
            "Epoch 82/200\n",
            "18/18 [==============================] - 3s 185ms/step - loss: 0.0507 - accuracy: 0.9802\n",
            "Epoch 83/200\n",
            "18/18 [==============================] - 3s 185ms/step - loss: 0.0556 - accuracy: 0.9798\n",
            "Epoch 84/200\n",
            "18/18 [==============================] - 4s 200ms/step - loss: 0.0620 - accuracy: 0.9776\n",
            "Epoch 85/200\n",
            "18/18 [==============================] - 3s 182ms/step - loss: 0.0697 - accuracy: 0.9751\n",
            "Epoch 86/200\n",
            "18/18 [==============================] - 3s 185ms/step - loss: 0.0627 - accuracy: 0.9751\n",
            "Epoch 87/200\n",
            "18/18 [==============================] - 3s 193ms/step - loss: 0.0522 - accuracy: 0.9802\n",
            "Epoch 88/200\n",
            "18/18 [==============================] - 4s 202ms/step - loss: 0.0513 - accuracy: 0.9809\n",
            "Epoch 89/200\n",
            "18/18 [==============================] - 3s 179ms/step - loss: 0.0460 - accuracy: 0.9840\n",
            "Epoch 90/200\n",
            "18/18 [==============================] - 3s 180ms/step - loss: 0.0423 - accuracy: 0.9853\n",
            "Epoch 91/200\n",
            "18/18 [==============================] - 3s 183ms/step - loss: 0.0359 - accuracy: 0.9864\n",
            "Epoch 92/200\n",
            "18/18 [==============================] - 4s 199ms/step - loss: 0.0435 - accuracy: 0.9829\n",
            "Epoch 93/200\n",
            "18/18 [==============================] - 3s 187ms/step - loss: 0.0505 - accuracy: 0.9829\n",
            "Epoch 94/200\n",
            "18/18 [==============================] - 3s 188ms/step - loss: 0.0496 - accuracy: 0.9824\n",
            "Epoch 95/200\n",
            "18/18 [==============================] - 3s 185ms/step - loss: 0.0400 - accuracy: 0.9840\n",
            "Epoch 96/200\n",
            "18/18 [==============================] - 4s 203ms/step - loss: 0.0384 - accuracy: 0.9860\n",
            "Epoch 97/200\n",
            "18/18 [==============================] - 3s 191ms/step - loss: 0.0436 - accuracy: 0.9844\n",
            "Epoch 98/200\n",
            "18/18 [==============================] - 3s 183ms/step - loss: 0.0385 - accuracy: 0.9871\n",
            "Epoch 99/200\n",
            "18/18 [==============================] - 3s 181ms/step - loss: 0.0376 - accuracy: 0.9860\n",
            "Epoch 100/200\n",
            "18/18 [==============================] - 3s 193ms/step - loss: 0.0348 - accuracy: 0.9869\n",
            "Epoch 101/200\n",
            "18/18 [==============================] - 3s 189ms/step - loss: 0.0327 - accuracy: 0.9878\n",
            "Epoch 102/200\n",
            "18/18 [==============================] - 3s 183ms/step - loss: 0.0418 - accuracy: 0.9840\n",
            "Epoch 103/200\n",
            "18/18 [==============================] - 3s 183ms/step - loss: 0.0418 - accuracy: 0.9838\n",
            "Epoch 104/200\n",
            "18/18 [==============================] - 3s 189ms/step - loss: 0.0479 - accuracy: 0.9847\n",
            "Epoch 105/200\n",
            "18/18 [==============================] - 4s 196ms/step - loss: 0.0493 - accuracy: 0.9853\n",
            "Epoch 106/200\n",
            "18/18 [==============================] - 3s 184ms/step - loss: 0.0421 - accuracy: 0.9849\n",
            "Epoch 107/200\n",
            "18/18 [==============================] - 3s 182ms/step - loss: 0.0320 - accuracy: 0.9889\n",
            "Epoch 108/200\n",
            "18/18 [==============================] - 3s 185ms/step - loss: 0.0310 - accuracy: 0.9896\n",
            "Epoch 109/200\n",
            "18/18 [==============================] - 4s 198ms/step - loss: 0.0373 - accuracy: 0.9873\n",
            "Epoch 110/200\n",
            "18/18 [==============================] - 3s 183ms/step - loss: 0.0304 - accuracy: 0.9876\n",
            "Epoch 111/200\n",
            "18/18 [==============================] - 3s 180ms/step - loss: 0.0365 - accuracy: 0.9864\n",
            "Epoch 112/200\n",
            "18/18 [==============================] - 3s 183ms/step - loss: 0.0439 - accuracy: 0.9833\n",
            "Epoch 113/200\n",
            "18/18 [==============================] - 4s 204ms/step - loss: 0.0550 - accuracy: 0.9820\n",
            "Epoch 114/200\n",
            "18/18 [==============================] - 3s 181ms/step - loss: 0.0449 - accuracy: 0.9842\n",
            "Epoch 115/200\n",
            "18/18 [==============================] - 3s 183ms/step - loss: 0.0390 - accuracy: 0.9864\n",
            "Epoch 116/200\n",
            "18/18 [==============================] - 3s 184ms/step - loss: 0.0297 - accuracy: 0.9891\n",
            "Epoch 117/200\n",
            "18/18 [==============================] - 4s 198ms/step - loss: 0.0305 - accuracy: 0.9900\n",
            "Epoch 118/200\n",
            "18/18 [==============================] - 3s 187ms/step - loss: 0.0343 - accuracy: 0.9896\n",
            "Epoch 119/200\n",
            "18/18 [==============================] - 3s 182ms/step - loss: 0.0359 - accuracy: 0.9878\n",
            "Epoch 120/200\n",
            "18/18 [==============================] - 3s 183ms/step - loss: 0.0359 - accuracy: 0.9882\n",
            "Epoch 121/200\n",
            "18/18 [==============================] - 4s 200ms/step - loss: 0.0292 - accuracy: 0.9898\n",
            "Epoch 122/200\n",
            "18/18 [==============================] - 3s 189ms/step - loss: 0.0359 - accuracy: 0.9889\n",
            "Epoch 123/200\n",
            "18/18 [==============================] - 3s 182ms/step - loss: 0.0523 - accuracy: 0.9822\n",
            "Epoch 124/200\n",
            "18/18 [==============================] - 3s 183ms/step - loss: 0.0482 - accuracy: 0.9818\n",
            "Epoch 125/200\n",
            "18/18 [==============================] - 3s 194ms/step - loss: 0.0384 - accuracy: 0.9853\n",
            "Epoch 126/200\n",
            "18/18 [==============================] - 3s 193ms/step - loss: 0.0315 - accuracy: 0.9882\n",
            "Epoch 127/200\n",
            "18/18 [==============================] - 3s 184ms/step - loss: 0.0299 - accuracy: 0.9898\n",
            "Epoch 128/200\n",
            "18/18 [==============================] - 3s 184ms/step - loss: 0.0275 - accuracy: 0.9909\n",
            "Epoch 129/200\n",
            "18/18 [==============================] - 3s 188ms/step - loss: 0.0262 - accuracy: 0.9896\n",
            "Epoch 130/200\n",
            "18/18 [==============================] - 4s 198ms/step - loss: 0.0402 - accuracy: 0.9858\n",
            "Epoch 131/200\n",
            "18/18 [==============================] - 3s 182ms/step - loss: 0.0481 - accuracy: 0.9844\n",
            "Epoch 132/200\n",
            "18/18 [==============================] - 3s 185ms/step - loss: 0.0461 - accuracy: 0.9833\n",
            "Epoch 133/200\n",
            "18/18 [==============================] - 3s 187ms/step - loss: 0.0340 - accuracy: 0.9873\n",
            "Epoch 134/200\n",
            "18/18 [==============================] - 4s 202ms/step - loss: 0.0300 - accuracy: 0.9884\n",
            "Epoch 135/200\n",
            "18/18 [==============================] - 3s 182ms/step - loss: 0.0252 - accuracy: 0.9920\n",
            "Epoch 136/200\n",
            "18/18 [==============================] - 3s 179ms/step - loss: 0.0284 - accuracy: 0.9900\n",
            "Epoch 137/200\n",
            "18/18 [==============================] - 3s 181ms/step - loss: 0.0326 - accuracy: 0.9880\n",
            "Epoch 138/200\n",
            "18/18 [==============================] - 4s 200ms/step - loss: 0.0393 - accuracy: 0.9853\n",
            "Epoch 139/200\n",
            "18/18 [==============================] - 3s 182ms/step - loss: 0.0298 - accuracy: 0.9884\n",
            "Epoch 140/200\n",
            "18/18 [==============================] - 3s 182ms/step - loss: 0.0365 - accuracy: 0.9873\n",
            "Epoch 141/200\n",
            "18/18 [==============================] - 3s 182ms/step - loss: 0.0296 - accuracy: 0.9900\n",
            "Epoch 142/200\n",
            "18/18 [==============================] - 4s 199ms/step - loss: 0.0225 - accuracy: 0.9922\n",
            "Epoch 143/200\n",
            "18/18 [==============================] - 3s 189ms/step - loss: 0.0276 - accuracy: 0.9907\n",
            "Epoch 144/200\n",
            "18/18 [==============================] - 3s 184ms/step - loss: 0.0271 - accuracy: 0.9900\n",
            "Epoch 145/200\n",
            "18/18 [==============================] - 3s 184ms/step - loss: 0.0436 - accuracy: 0.9849\n",
            "Epoch 146/200\n",
            "18/18 [==============================] - 4s 197ms/step - loss: 0.0294 - accuracy: 0.9896\n",
            "Epoch 147/200\n",
            "18/18 [==============================] - 3s 194ms/step - loss: 0.0198 - accuracy: 0.9936\n",
            "Epoch 148/200\n",
            "18/18 [==============================] - 3s 184ms/step - loss: 0.0187 - accuracy: 0.9931\n",
            "Epoch 149/200\n",
            "18/18 [==============================] - 3s 189ms/step - loss: 0.0172 - accuracy: 0.9942\n",
            "Epoch 150/200\n",
            "18/18 [==============================] - 4s 199ms/step - loss: 0.0205 - accuracy: 0.9933\n",
            "Epoch 151/200\n",
            "18/18 [==============================] - 3s 192ms/step - loss: 0.0223 - accuracy: 0.9918\n",
            "Epoch 152/200\n",
            "18/18 [==============================] - 3s 184ms/step - loss: 0.0211 - accuracy: 0.9931\n",
            "Epoch 153/200\n",
            "18/18 [==============================] - 3s 183ms/step - loss: 0.0266 - accuracy: 0.9898\n",
            "Epoch 154/200\n",
            "18/18 [==============================] - 3s 187ms/step - loss: 0.0319 - accuracy: 0.9896\n",
            "Epoch 155/200\n",
            "18/18 [==============================] - 4s 195ms/step - loss: 0.0220 - accuracy: 0.9924\n",
            "Epoch 156/200\n",
            "18/18 [==============================] - 3s 184ms/step - loss: 0.0293 - accuracy: 0.9904\n",
            "Epoch 157/200\n",
            "18/18 [==============================] - 3s 181ms/step - loss: 0.0329 - accuracy: 0.9896\n",
            "Epoch 158/200\n",
            "18/18 [==============================] - 3s 188ms/step - loss: 0.0238 - accuracy: 0.9896\n",
            "Epoch 159/200\n",
            "18/18 [==============================] - 4s 199ms/step - loss: 0.0217 - accuracy: 0.9931\n",
            "Epoch 160/200\n",
            "18/18 [==============================] - 3s 182ms/step - loss: 0.0242 - accuracy: 0.9911\n",
            "Epoch 161/200\n",
            "18/18 [==============================] - 3s 181ms/step - loss: 0.0270 - accuracy: 0.9889\n",
            "Epoch 162/200\n",
            "18/18 [==============================] - 3s 181ms/step - loss: 0.0273 - accuracy: 0.9907\n",
            "Epoch 163/200\n",
            "18/18 [==============================] - 4s 198ms/step - loss: 0.0271 - accuracy: 0.9893\n",
            "Epoch 164/200\n",
            "18/18 [==============================] - 3s 185ms/step - loss: 0.0250 - accuracy: 0.9916\n",
            "Epoch 165/200\n",
            "18/18 [==============================] - 3s 185ms/step - loss: 0.0250 - accuracy: 0.9913\n",
            "Epoch 166/200\n",
            "18/18 [==============================] - 3s 181ms/step - loss: 0.0236 - accuracy: 0.9904\n",
            "Epoch 167/200\n",
            "18/18 [==============================] - 4s 201ms/step - loss: 0.0187 - accuracy: 0.9938\n",
            "Epoch 168/200\n",
            "18/18 [==============================] - 3s 192ms/step - loss: 0.0217 - accuracy: 0.9927\n",
            "Epoch 169/200\n",
            "18/18 [==============================] - 3s 187ms/step - loss: 0.0216 - accuracy: 0.9936\n",
            "Epoch 170/200\n",
            "18/18 [==============================] - 3s 185ms/step - loss: 0.0208 - accuracy: 0.9922\n",
            "Epoch 171/200\n",
            "18/18 [==============================] - 4s 197ms/step - loss: 0.0177 - accuracy: 0.9938\n",
            "Epoch 172/200\n",
            "18/18 [==============================] - 3s 192ms/step - loss: 0.0242 - accuracy: 0.9918\n",
            "Epoch 173/200\n",
            "18/18 [==============================] - 3s 183ms/step - loss: 0.0302 - accuracy: 0.9891\n",
            "Epoch 174/200\n",
            "18/18 [==============================] - 3s 183ms/step - loss: 0.0307 - accuracy: 0.9880\n",
            "Epoch 175/200\n",
            "18/18 [==============================] - 4s 200ms/step - loss: 0.0272 - accuracy: 0.9902\n",
            "Epoch 176/200\n",
            "18/18 [==============================] - 4s 194ms/step - loss: 0.0210 - accuracy: 0.9931\n",
            "Epoch 177/200\n",
            "18/18 [==============================] - 3s 184ms/step - loss: 0.0299 - accuracy: 0.9911\n",
            "Epoch 178/200\n",
            "18/18 [==============================] - 3s 181ms/step - loss: 0.0269 - accuracy: 0.9909\n",
            "Epoch 179/200\n",
            "18/18 [==============================] - 3s 188ms/step - loss: 0.0240 - accuracy: 0.9916\n",
            "Epoch 180/200\n",
            "18/18 [==============================] - 4s 196ms/step - loss: 0.0193 - accuracy: 0.9933\n",
            "Epoch 181/200\n",
            "18/18 [==============================] - 3s 183ms/step - loss: 0.0126 - accuracy: 0.9956\n",
            "Epoch 182/200\n",
            "18/18 [==============================] - 3s 182ms/step - loss: 0.0129 - accuracy: 0.9960\n",
            "Epoch 183/200\n",
            "18/18 [==============================] - 3s 188ms/step - loss: 0.0149 - accuracy: 0.9942\n",
            "Epoch 184/200\n",
            "18/18 [==============================] - 4s 202ms/step - loss: 0.0159 - accuracy: 0.9942\n",
            "Epoch 185/200\n",
            "18/18 [==============================] - 3s 184ms/step - loss: 0.0338 - accuracy: 0.9907\n",
            "Epoch 186/200\n",
            "18/18 [==============================] - 3s 182ms/step - loss: 0.0280 - accuracy: 0.9913\n",
            "Epoch 187/200\n",
            "18/18 [==============================] - 3s 184ms/step - loss: 0.0256 - accuracy: 0.9924\n",
            "Epoch 188/200\n",
            "18/18 [==============================] - 4s 201ms/step - loss: 0.0344 - accuracy: 0.9891\n",
            "Epoch 189/200\n",
            "18/18 [==============================] - 3s 185ms/step - loss: 0.0278 - accuracy: 0.9898\n",
            "Epoch 190/200\n",
            "18/18 [==============================] - 3s 192ms/step - loss: 0.0241 - accuracy: 0.9913\n",
            "Epoch 191/200\n",
            "18/18 [==============================] - 3s 181ms/step - loss: 0.0180 - accuracy: 0.9936\n",
            "Epoch 192/200\n",
            "18/18 [==============================] - 4s 205ms/step - loss: 0.0267 - accuracy: 0.9904\n",
            "Epoch 193/200\n",
            "18/18 [==============================] - 3s 191ms/step - loss: 0.0247 - accuracy: 0.9929\n",
            "Epoch 194/200\n",
            "18/18 [==============================] - 3s 189ms/step - loss: 0.0254 - accuracy: 0.9916\n",
            "Epoch 195/200\n",
            "18/18 [==============================] - 4s 205ms/step - loss: 0.0154 - accuracy: 0.9947\n",
            "Epoch 196/200\n",
            "18/18 [==============================] - 4s 241ms/step - loss: 0.0257 - accuracy: 0.9916\n",
            "Epoch 197/200\n",
            "18/18 [==============================] - 3s 186ms/step - loss: 0.0172 - accuracy: 0.9933\n",
            "Epoch 198/200\n",
            "18/18 [==============================] - 4s 203ms/step - loss: 0.0123 - accuracy: 0.9953\n",
            "Epoch 199/200\n",
            "18/18 [==============================] - 3s 181ms/step - loss: 0.0140 - accuracy: 0.9949\n",
            "Epoch 200/200\n",
            "18/18 [==============================] - 4s 202ms/step - loss: 0.0208 - accuracy: 0.9927\n"
          ]
        }
      ]
    },
    {
      "cell_type": "code",
      "source": [
        "test_loss , test_acc = model.evaluate([left_test_pairs, right_test_pairs], test_labels)\n",
        "test_loss , test_acc"
      ],
      "metadata": {
        "colab": {
          "base_uri": "https://localhost:8080/"
        },
        "id": "0fGxSeXOuB0r",
        "outputId": "e58f6745-dd52-4b9a-c2ae-50e35d7e06db"
      },
      "execution_count": 41,
      "outputs": [
        {
          "output_type": "stream",
          "name": "stdout",
          "text": [
            "57/57 [==============================] - 2s 20ms/step - loss: 3.6301 - accuracy: 0.7039\n"
          ]
        },
        {
          "output_type": "execute_result",
          "data": {
            "text/plain": [
              "(3.6301002502441406, 0.7038888931274414)"
            ]
          },
          "metadata": {},
          "execution_count": 41
        }
      ]
    },
    {
      "cell_type": "code",
      "source": [
        "#save model and accuracies\n",
        "model.save(f'/content/gdrive/MyDrive/DLS/HW3/models/gru-speaker-verification.h5')\n",
        "#save accuracies\n",
        "data = {'Epoch': list(range(1, len(history.history['accuracy']) + 1)),\n",
        "        'Training Accuracy' : history.history['accuracy']}\n",
        "df = pd.DataFrame(data)\n",
        "\n",
        "folder = '/content/gdrive/MyDrive/DLS/HW3/csv/'\n",
        "csv_filename = 'gru-q4.csv'\n",
        "df.to_csv(folder + csv_filename, index=False)"
      ],
      "metadata": {
        "colab": {
          "base_uri": "https://localhost:8080/"
        },
        "id": "53ybGARvrvqn",
        "outputId": "3c776222-dd55-4db3-9927-7b6a9d4623bd"
      },
      "execution_count": 42,
      "outputs": [
        {
          "output_type": "stream",
          "name": "stderr",
          "text": [
            "/usr/local/lib/python3.10/dist-packages/keras/src/engine/training.py:3079: UserWarning: You are saving your model as an HDF5 file via `model.save()`. This file format is considered legacy. We recommend using instead the native Keras format, e.g. `model.save('my_model.keras')`.\n",
            "  saving_api.save_model(\n"
          ]
        }
      ]
    },
    {
      "cell_type": "markdown",
      "source": [
        "Q5. Speech Denoising using RNN"
      ],
      "metadata": {
        "id": "4cFAuFPYAZni"
      }
    },
    {
      "cell_type": "code",
      "source": [
        "import glob\n",
        "import librosa\n",
        "import pickle\n",
        "import soundfile as sf"
      ],
      "metadata": {
        "id": "kytHaRp-zaQr"
      },
      "execution_count": 6,
      "outputs": []
    },
    {
      "cell_type": "code",
      "source": [
        "#tr - 1200 noisy signals\n",
        "#load them and form spectrograms"
      ],
      "metadata": {
        "id": "M4YAUd8Wjf5W"
      },
      "execution_count": null,
      "outputs": []
    },
    {
      "cell_type": "code",
      "source": [
        "def train_stft(path):\n",
        "  mag_list = []\n",
        "  stft_list = []\n",
        "\n",
        "  for file in sorted(glob.iglob(path)):\n",
        "    s,sr = librosa.load(file , sr=None)\n",
        "    stft = librosa.stft(s, n_fft=1024, hop_length=512)\n",
        "    # if stft.shape[1] > max_len:\n",
        "    #   max_len = stft.shape[1]\n",
        "  #print(max_len)\n",
        "  #max length for test signals is 178\n",
        "    #real part\n",
        "    mag = np.abs(stft)\n",
        "    pad = np.zeros((513, 178))\n",
        "    pad[:, :mag.shape[1]] = mag\n",
        "    mag = pad.T\n",
        "    stft_list.append(stft)\n",
        "    mag_list.append(mag)\n",
        "\n",
        "  return stft_list , mag_list"
      ],
      "metadata": {
        "id": "t_UrTYAIjf80"
      },
      "execution_count": 57,
      "outputs": []
    },
    {
      "cell_type": "code",
      "source": [
        "#train\n",
        "folder = \"timit-homework/tr/\"\n",
        "train_stft, train_mag = train_stft(folder + \"trx*.wav\")\n",
        "train_stft_clean, train_mag_clean = train_stft(folder + \"trs*.wav\")\n",
        "train_stft_noisy , train_mag_noisy = train_stft(folder + \"trn*.wav\")"
      ],
      "metadata": {
        "id": "UAjj3KcLtm4A"
      },
      "execution_count": null,
      "outputs": []
    },
    {
      "cell_type": "code",
      "source": [
        "def val_clean(path):\n",
        "  mag_list = []\n",
        "  stft_list = []\n",
        "\n",
        "  for file in sorted(glob.iglob(path)):\n",
        "    s,sr = librosa.load(file , sr=None)\n",
        "    stft = librosa.stft(s, n_fft=1024, hop_length=512)\n",
        "\n",
        "    #complex part\n",
        "    pad = np.zeros((513, 178))\n",
        "    pad[:, :stft.shape[1]] = stft\n",
        "    com = pad.T\n",
        "    #real\n",
        "    mag = np.abs(com)\n",
        "\n",
        "    stft_list.append(stft)\n",
        "    mag_list.append(mag)\n",
        "\n",
        "  return stft_list , mag_list"
      ],
      "metadata": {
        "id": "5oZzHCP22-B8"
      },
      "execution_count": 71,
      "outputs": []
    },
    {
      "cell_type": "code",
      "source": [
        "def val_noisy(path):\n",
        "  mag_list = []\n",
        "  compl_list = []\n",
        "\n",
        "  for file in sorted(glob.iglob(path)):\n",
        "    s,sr = librosa.load(file , sr=None)\n",
        "    stft = librosa.stft(s, n_fft=1024, hop_length=512)\n",
        "\n",
        "    #complex part\n",
        "    com = np.zeros((513, 178))\n",
        "    com[:, :stft.shape[1]] = stft\n",
        "    com = com.T\n",
        "    #real\n",
        "    mag = np.abs(com)\n",
        "\n",
        "    compl_list.append(com)\n",
        "    mag_list.append(mag)\n",
        "\n",
        "  return compl_list , mag_list"
      ],
      "metadata": {
        "id": "GoGBJfbvq_7G"
      },
      "execution_count": 97,
      "outputs": []
    },
    {
      "cell_type": "code",
      "source": [
        "#val\n",
        "folder = \"timit-homework/v/\"\n",
        "\n",
        "val_stft , val_mag = val_noisy(folder + \"vx*.wav\")\n",
        "val_stft_clean , val_mag_clean = val_clean(folder + \"vs*.wav\")\n",
        "val_stft_noisy , val_mag_noisy = val_noisy(folder + \"vn*.wav\")"
      ],
      "metadata": {
        "colab": {
          "base_uri": "https://localhost:8080/"
        },
        "id": "J0Dk6PQbMtvl",
        "outputId": "4381a39f-2376-40d7-dd2f-ffd0d390ef98"
      },
      "execution_count": 72,
      "outputs": [
        {
          "output_type": "stream",
          "name": "stderr",
          "text": [
            "<ipython-input-65-3bbf96ea0ea9>:11: ComplexWarning: Casting complex values to real discards the imaginary part\n",
            "  pad[:, :stft.shape[1]] = stft\n"
          ]
        }
      ]
    },
    {
      "cell_type": "code",
      "source": [
        "def test_noisy(path):\n",
        "  mag_list = []\n",
        "  compl_list = []\n",
        "  max_len = 0\n",
        "\n",
        "  for file in sorted(glob.iglob(path)):\n",
        "    #print(file)\n",
        "    s,sr = librosa.load(file , sr=None)\n",
        "    stft = librosa.stft(s, n_fft=1024, hop_length=512)\n",
        "    # if stft.shape[1] > max_len:\n",
        "    #   max_len = stft.shape[1]\n",
        "  #print(max_len)\n",
        "  #max length for test signals is 195\n",
        "\n",
        "    #complex part\n",
        "    com = np.zeros((513, 195))\n",
        "    com[:, :stft.shape[1]] = stft\n",
        "    com = com.T\n",
        "    #real\n",
        "    mag = np.abs(com)\n",
        "\n",
        "    compl_list.append(com)\n",
        "    mag_list.append(mag)\n",
        "\n",
        "  return compl_list , mag_list"
      ],
      "metadata": {
        "id": "9UmKhO4k79UT"
      },
      "execution_count": 113,
      "outputs": []
    },
    {
      "cell_type": "code",
      "source": [
        "#test\n",
        "folder = \"timit-homework/te/\"\n",
        "test_stft , test_mag = test_noisy(folder + \"tex*.wav\")"
      ],
      "metadata": {
        "colab": {
          "base_uri": "https://localhost:8080/"
        },
        "id": "Kc55riz-BR3v",
        "outputId": "84f4fc46-b18e-477a-e94a-bc9105960a28"
      },
      "execution_count": 114,
      "outputs": [
        {
          "output_type": "stream",
          "name": "stderr",
          "text": [
            "<ipython-input-113-fbee2e236486>:17: ComplexWarning: Casting complex values to real discards the imaginary part\n",
            "  com[:, :stft.shape[1]] = stft\n"
          ]
        }
      ]
    },
    {
      "cell_type": "code",
      "source": [
        "def IBM(S , N):\n",
        "  ibm_train = []\n",
        "  for i in range(1200):\n",
        "      ibm_mask = np.zeros((S[i].shape))\n",
        "      ibm_mask[S[i] > N[i]] = 1\n",
        "      ibm_train.append(ibm_mask)\n",
        "  return ibm_train"
      ],
      "metadata": {
        "id": "6fP36am0oDzl"
      },
      "execution_count": 27,
      "outputs": []
    },
    {
      "cell_type": "code",
      "source": [
        "#binary mask for train data\n",
        "train_mask = IBM(train_mag_clean , train_mag_noisy)\n",
        "train_mask = np.stack(train_mask)\n",
        "train_mask.shape"
      ],
      "metadata": {
        "colab": {
          "base_uri": "https://localhost:8080/"
        },
        "id": "MJ_HCQeOowNI",
        "outputId": "6e8f6cee-3b69-47ee-ac59-31036de0250f"
      },
      "execution_count": 50,
      "outputs": [
        {
          "output_type": "execute_result",
          "data": {
            "text/plain": [
              "(1200, 178, 513)"
            ]
          },
          "metadata": {},
          "execution_count": 50
        }
      ]
    },
    {
      "cell_type": "code",
      "source": [
        "#binary mask for val data\n",
        "val_mask = IBM(val_mag_clean , val_mag_noisy)\n",
        "val_mask = np.stack(val_mask)\n",
        "val_mask.shape"
      ],
      "metadata": {
        "colab": {
          "base_uri": "https://localhost:8080/"
        },
        "id": "x1qtSHOqvRJV",
        "outputId": "690b5d41-cf41-40fc-91e1-e0ac570a095c"
      },
      "execution_count": 73,
      "outputs": [
        {
          "output_type": "execute_result",
          "data": {
            "text/plain": [
              "(1200, 178, 513)"
            ]
          },
          "metadata": {},
          "execution_count": 73
        }
      ]
    },
    {
      "cell_type": "code",
      "source": [
        "#stack train data\n",
        "train_mag = np.stack(train_mag)"
      ],
      "metadata": {
        "id": "9BCKTleFvgSw"
      },
      "execution_count": 44,
      "outputs": []
    },
    {
      "cell_type": "code",
      "source": [
        "#model1\n",
        "# model = tf.keras.Sequential([\n",
        "#         Input(shape = (None, 513)),\n",
        "#         LSTM(513, return_sequences=True),\n",
        "#         Dropout(0.2),\n",
        "#         LSTM(513, return_sequences=True),\n",
        "#         Dropout(0.2),\n",
        "#         Dense(513, activation='sigmoid')\n",
        "#     ])\n",
        "#model2\n",
        "model = tf.keras.Sequential([\n",
        "        Input(shape = (None, 513)),\n",
        "        GRU(513, return_sequences=True),\n",
        "        Dropout(0.2),\n",
        "        GRU(513, return_sequences=True),\n",
        "        Dropout(0.2),\n",
        "        Dense(513, activation='sigmoid')\n",
        "    ])\n",
        "\n",
        "model.summary()"
      ],
      "metadata": {
        "colab": {
          "base_uri": "https://localhost:8080/"
        },
        "id": "mHN-gJIFpiZd",
        "outputId": "c1d44ebd-62be-41e8-ce73-25681d66b12c"
      },
      "execution_count": 133,
      "outputs": [
        {
          "output_type": "stream",
          "name": "stdout",
          "text": [
            "Model: \"sequential_2\"\n",
            "_________________________________________________________________\n",
            " Layer (type)                Output Shape              Param #   \n",
            "=================================================================\n",
            " gru (GRU)                   (None, None, 513)         1582092   \n",
            "                                                                 \n",
            " dropout_4 (Dropout)         (None, None, 513)         0         \n",
            "                                                                 \n",
            " gru_1 (GRU)                 (None, None, 513)         1582092   \n",
            "                                                                 \n",
            " dropout_5 (Dropout)         (None, None, 513)         0         \n",
            "                                                                 \n",
            " dense_2 (Dense)             (None, None, 513)         263682    \n",
            "                                                                 \n",
            "=================================================================\n",
            "Total params: 3427866 (13.08 MB)\n",
            "Trainable params: 3427866 (13.08 MB)\n",
            "Non-trainable params: 0 (0.00 Byte)\n",
            "_________________________________________________________________\n"
          ]
        }
      ]
    },
    {
      "cell_type": "code",
      "source": [
        "model.compile(loss = 'binary_crossentropy', optimizer = 'Adam', metrics = ['accuracy'])"
      ],
      "metadata": {
        "id": "SUec0tV9vZs5"
      },
      "execution_count": 135,
      "outputs": []
    },
    {
      "cell_type": "code",
      "source": [
        "hist = model.fit(train_mag, train_mask, epochs=20, batch_size=10)\n",
        "model.save('/content/gdrive/MyDrive/DLS/HW3/RNN1.h5')"
      ],
      "metadata": {
        "colab": {
          "base_uri": "https://localhost:8080/"
        },
        "id": "wCONggp9vy4H",
        "outputId": "99c2cbdf-b4d9-4996-cd81-9b534fdc286f"
      },
      "execution_count": 136,
      "outputs": [
        {
          "output_type": "stream",
          "name": "stdout",
          "text": [
            "Epoch 1/20\n",
            "120/120 [==============================] - 7s 37ms/step - loss: 0.4049 - accuracy: 0.0105\n",
            "Epoch 2/20\n",
            "120/120 [==============================] - 4s 36ms/step - loss: 0.3072 - accuracy: 0.0546\n",
            "Epoch 3/20\n",
            "120/120 [==============================] - 4s 36ms/step - loss: 0.2829 - accuracy: 0.1082\n",
            "Epoch 4/20\n",
            "120/120 [==============================] - 4s 36ms/step - loss: 0.2665 - accuracy: 0.2045\n",
            "Epoch 5/20\n",
            "120/120 [==============================] - 4s 36ms/step - loss: 0.2579 - accuracy: 0.2006\n",
            "Epoch 6/20\n",
            "120/120 [==============================] - 4s 37ms/step - loss: 0.2478 - accuracy: 0.2463\n",
            "Epoch 7/20\n",
            "120/120 [==============================] - 4s 37ms/step - loss: 0.2405 - accuracy: 0.3028\n",
            "Epoch 8/20\n",
            "120/120 [==============================] - 4s 37ms/step - loss: 0.2350 - accuracy: 0.3096\n",
            "Epoch 9/20\n",
            "120/120 [==============================] - 4s 37ms/step - loss: 0.2306 - accuracy: 0.3421\n",
            "Epoch 10/20\n",
            "120/120 [==============================] - 4s 37ms/step - loss: 0.2259 - accuracy: 0.3648\n",
            "Epoch 11/20\n",
            "120/120 [==============================] - 4s 37ms/step - loss: 0.2218 - accuracy: 0.3453\n",
            "Epoch 12/20\n",
            "120/120 [==============================] - 5s 38ms/step - loss: 0.2188 - accuracy: 0.3536\n",
            "Epoch 13/20\n",
            "120/120 [==============================] - 4s 37ms/step - loss: 0.2137 - accuracy: 0.3697\n",
            "Epoch 14/20\n",
            "120/120 [==============================] - 4s 37ms/step - loss: 0.2121 - accuracy: 0.3968\n",
            "Epoch 15/20\n",
            "120/120 [==============================] - 4s 37ms/step - loss: 0.2082 - accuracy: 0.4206\n",
            "Epoch 16/20\n",
            "120/120 [==============================] - 4s 37ms/step - loss: 0.2050 - accuracy: 0.4191\n",
            "Epoch 17/20\n",
            "120/120 [==============================] - 4s 36ms/step - loss: 0.2016 - accuracy: 0.4145\n",
            "Epoch 18/20\n",
            "120/120 [==============================] - 4s 36ms/step - loss: 0.2005 - accuracy: 0.4171\n",
            "Epoch 19/20\n",
            "120/120 [==============================] - 4s 37ms/step - loss: 0.1971 - accuracy: 0.4195\n",
            "Epoch 20/20\n",
            "120/120 [==============================] - 4s 36ms/step - loss: 0.1955 - accuracy: 0.4168\n"
          ]
        },
        {
          "output_type": "stream",
          "name": "stderr",
          "text": [
            "/usr/local/lib/python3.10/dist-packages/keras/src/engine/training.py:3079: UserWarning: You are saving your model as an HDF5 file via `model.save()`. This file format is considered legacy. We recommend using instead the native Keras format, e.g. `model.save('my_model.keras')`.\n",
            "  saving_api.save_model(\n"
          ]
        }
      ]
    },
    {
      "cell_type": "code",
      "source": [
        "# #calculate snr\n",
        "def snr_cal(clean, recon):\n",
        "    recon = recon[:clean.shape[0]]\n",
        "    clean_pow = np.sum(clean**2)\n",
        "    noisy_pow = np.sum(clean - recon)**2\n",
        "    return 10*np.log10(clean_pow/noisy_pow)"
      ],
      "metadata": {
        "id": "nzkn7_sn0dFV"
      },
      "execution_count": 137,
      "outputs": []
    },
    {
      "cell_type": "code",
      "source": [
        "#snr on valdiation data\n",
        "\n",
        "#val mixed\n",
        "val_complex = np.stack(val_stft)\n",
        "val_complex.shape"
      ],
      "metadata": {
        "colab": {
          "base_uri": "https://localhost:8080/"
        },
        "id": "IfZgRO8uvzH2",
        "outputId": "49663cc6-952a-4582-fe90-98a7781ba581"
      },
      "execution_count": 122,
      "outputs": [
        {
          "output_type": "execute_result",
          "data": {
            "text/plain": [
              "(1200, 178, 513)"
            ]
          },
          "metadata": {},
          "execution_count": 122
        }
      ]
    },
    {
      "cell_type": "code",
      "source": [
        "#recontruct audio\n",
        "val_mag = np.stack(val_mag)\n",
        "val_mask_predict = model.predict(val_mag, batch_size=10)"
      ],
      "metadata": {
        "colab": {
          "base_uri": "https://localhost:8080/"
        },
        "id": "I_sgRVyQH2_V",
        "outputId": "dd320077-10f7-4a81-8cce-16c73c255faa"
      },
      "execution_count": 138,
      "outputs": [
        {
          "output_type": "stream",
          "name": "stdout",
          "text": [
            "120/120 [==============================] - 2s 16ms/step\n"
          ]
        }
      ]
    },
    {
      "cell_type": "code",
      "source": [
        "recons = np.multiply(val_mask_predict,  val_complex)\n",
        "recons.shape"
      ],
      "metadata": {
        "colab": {
          "base_uri": "https://localhost:8080/"
        },
        "id": "fNIeFsWJIBL6",
        "outputId": "4f5bf3df-7cd4-4bb8-b147-5cfa4aeede47"
      },
      "execution_count": 139,
      "outputs": [
        {
          "output_type": "execute_result",
          "data": {
            "text/plain": [
              "(1200, 178, 513)"
            ]
          },
          "metadata": {},
          "execution_count": 139
        }
      ]
    },
    {
      "cell_type": "code",
      "source": [
        "snr_list = []\n",
        "\n",
        "for i in range(1200):\n",
        "  clean = librosa.istft(val_stft_clean[i], win_length=1024, hop_length=512)\n",
        "  recon = librosa.istft(recons[i].T, win_length=1024, hop_length=512)\n",
        "  snr = snr_cal(clean , recon)\n",
        "  snr_list.append(snr)"
      ],
      "metadata": {
        "id": "lWs8vlVu1gwK"
      },
      "execution_count": 147,
      "outputs": []
    },
    {
      "cell_type": "code",
      "source": [
        "print('Minimum SNR of 1200 files : ' , min(snr_list))\n",
        "print('Mean SNR of 1200 files : ', np.mean(snr_list))\n",
        "print('Maximum SNR of 1200 files : ', max(snr_list))"
      ],
      "metadata": {
        "colab": {
          "base_uri": "https://localhost:8080/"
        },
        "id": "kKM50tT66Zj9",
        "outputId": "57c35353-0e58-4f84-87aa-132aebb79ffa"
      },
      "execution_count": 148,
      "outputs": [
        {
          "output_type": "stream",
          "name": "stdout",
          "text": [
            "Minimum SNR of 1200 files :  4.165564307704536\n",
            "Mean SNR of 1200 files :  23.876741757183435\n",
            "Maximum SNR of 1200 files :  76.33269585476475\n"
          ]
        }
      ]
    },
    {
      "cell_type": "code",
      "source": [
        "#reconstruct test signals\n",
        "model = load_model('/content/gdrive/MyDrive/DLS/HW3/RNN1.h5')\n",
        "\n",
        "test_mag = np.stack(test_mag)\n",
        "test_masks = model.predict(test_mag, batch_size = 10)\n",
        "test_recons = np.multiply(test_masks, test_stft)\n",
        "\n",
        "for i in range(400):\n",
        "  recon_sound = librosa.istft(test_recons[i].T, hop_length=512, win_length=1024)\n",
        "  file_num = str(i).zfill(4)\n",
        "  output_file = f\"/content/gdrive/MyDrive/DLS/HW3/recons/test_recon_{file_num}.wav\"\n",
        "  sf.write(output_file, recon_sound, samplerate = 16000)"
      ],
      "metadata": {
        "colab": {
          "base_uri": "https://localhost:8080/"
        },
        "id": "Ql7L0b_fv9Vv",
        "outputId": "272b14a0-df8f-4859-8324-2abc3dc66de2"
      },
      "execution_count": 149,
      "outputs": [
        {
          "output_type": "stream",
          "name": "stdout",
          "text": [
            "40/40 [==============================] - 1s 20ms/step\n"
          ]
        }
      ]
    },
    {
      "cell_type": "code",
      "source": [],
      "metadata": {
        "id": "hxEY4GWaRrO3"
      },
      "execution_count": null,
      "outputs": []
    }
  ]
}